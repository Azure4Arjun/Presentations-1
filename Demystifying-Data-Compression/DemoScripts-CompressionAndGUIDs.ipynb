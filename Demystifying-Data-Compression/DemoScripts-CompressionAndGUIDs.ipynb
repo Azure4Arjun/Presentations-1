{
    "metadata": {
        "kernelspec": {
            "name": "SQL",
            "display_name": "SQL",
            "language": "sql"
        },
        "language_info": {
            "name": "sql",
            "version": ""
        }
    },
    "nbformat_minor": 2,
    "nbformat": 4,
    "cells": [
        {
            "cell_type": "markdown",
            "source": "## Create a demo database",
            "metadata": {}
        },
        {
            "cell_type": "code",
            "source": "USE AW_NONE\r\nIF EXISTS (SELECT 1 FROM sys.databases WHERE name = 'CompressGUIDs')\r\n\tDROP DATABASE CompressGUIDs;\r\nGO\r\nCREATE DATABASE CompressGUIDs;\r\nGO\r\nUSE CompressGUIDs\r\nGO\r\nSET NOCOUNT ON;\r\n\r\n\r\n--Create two tables, identical except compression levels\r\n--Multiple GUID columns, with all sorts of random values\r\nCREATE TABLE GUIDs (\r\n    GUID1 uniqueidentifier,\r\n    GUID2 uniqueidentifier,\r\n    GUID3 uniqueidentifier,\r\n    CONSTRAINT PK_GUIDs PRIMARY KEY CLUSTERED (GUID1) WITH (DATA_COMPRESSION = NONE)\r\n);\r\nCREATE TABLE GUIDs_PAGE (\r\n    GUID1 uniqueidentifier,\r\n    GUID2 uniqueidentifier,\r\n    GUID3 uniqueidentifier,\r\n    CONSTRAINT PK_GUIDs_PAGE PRIMARY KEY CLUSTERED (GUID1) WITH (DATA_COMPRESSION = PAGE)\r\n);\r\n\r\nGO\r\n\r\n--insert a bunch of data\r\n--note runtimes will vary\r\n\r\nINSERT INTO GUIDs (GUID1, GUID2, GUID3)\r\nSELECT NEWID(), NEWID(), NEWID()\r\nFROM sys.objects o1, sys.objects o2\r\nGO 50\r\n\r\nINSERT INTO GUIDs_PAGE (GUID1, GUID2, GUID3)\r\nSELECT NEWID(), NEWID(), NEWID()\r\nFROM sys.objects o1, sys.objects o2\r\nGO 50",
            "metadata": {},
            "outputs": [
                {
                    "output_type": "error",
                    "evalue": "Query failed: Invalid operation. The connection is closed.",
                    "ename": "",
                    "traceback": []
                },
                {
                    "output_type": "display_data",
                    "data": {
                        "text/html": "Total execution time: 00:00:00.0077176"
                    },
                    "metadata": {}
                }
            ],
            "execution_count": 1
        },
        {
            "cell_type": "markdown",
            "source": "## Rebuild the indexes\r\n\r\nRun statements a bunch of times, and note the runtimes.",
            "metadata": {}
        },
        {
            "cell_type": "code",
            "source": "--SET STATISTICS IO,TIME ON;\r\nGO\r\n\r\nALTER INDEX PK_GUIDs      ON GUIDs      REBUILD WITH (DATA_COMPRESSION=NONE);\r\nGO 20\r\n\r\nALTER INDEX PK_GUIDs_PAGE ON GUIDS_PAGE REBUILD WITH (DATA_COMPRESSION=PAGE);\r\nGO 20\r\n--SET STATISTICS IO,TIME OFF;",
            "metadata": {},
            "outputs": [],
            "execution_count": 16
        },
        {
            "cell_type": "markdown",
            "source": "## How does compression affect the index rebuild time/performance?\r\n\r\nWe're doing more work, so obviously, it takes a little bit longer, right?\r\n\r\n### BUT WE SAVED SPACE BECAUSE IT'S COMPRESSED!\r\n\r\nHow much space did we save?",
            "metadata": {}
        },
        {
            "cell_type": "code",
            "source": "SELECT DbName             = db_name(database_id) \r\n      ,TableName          = object_name(object_id,database_id) \r\n      ,IndexID            = index_id\r\n      ,IndexType          = index_type_desc\r\n      ,AllocUnitType      = alloc_unit_type_desc\r\n      ,IndexSizeKB        = page_count * 8\r\n      ,CompressedPages    = compressed_page_count\r\n      ,UncompressedPages  = page_count - compressed_page_count\r\n      ,AvgRecordSizeBytes = avg_record_size_in_bytes\r\nFROM sys.dm_db_index_physical_stats(db_id('CompressGUIDs'),\r\n                                    object_id('dbo.GUIDs'),\r\n                                    NULL,NULL,'Detailed') -- Have to use Detailed mode to get compression info\r\nWHERE index_level = 0  --Only the leaf level of the index\r\nUNION\r\nSELECT DbName             = db_name(database_id) \r\n      ,TableName          = object_name(object_id,database_id) \r\n      ,IndexID            = index_id\r\n      ,IndexType          = index_type_desc\r\n      ,AllocUnitType      = alloc_unit_type_desc\r\n      ,IndexSizeKB        = page_count * 8\r\n      ,CompressedPages    = compressed_page_count\r\n      ,UncompressedPages  = page_count - compressed_page_count\r\n      ,AvgRecordSizeBytes = avg_record_size_in_bytes\r\nFROM sys.dm_db_index_physical_stats(db_id('CompressGUIDs'),\r\n                                    object_id('dbo.GUIDs_PAGE'),\r\n                                    NULL,NULL,'Detailed') -- Have to use Detailed mode to get compression info\r\nWHERE index_level = 0; --Only the leaf level of the index\r\n",
            "metadata": {},
            "outputs": [],
            "execution_count": 17
        },
        {
            "cell_type": "markdown",
            "source": "## Wut?\r\n\r\nOK, but sequential GUIDs!\r\n\r\nLet's create some sample data with sequential GUIDs\r\n",
            "metadata": {}
        },
        {
            "cell_type": "code",
            "source": "USE CompressGUIDs\r\nGO\r\nSET NOCOUNT ON\r\n\r\n\r\n--Create two tables, identical except compression levels\r\n--Multiple GUID columns, this time with sequential values.\r\nCREATE TABLE SequentialGUIDs (\r\n    SomeID    tinyint,\r\n    GUID1 uniqueidentifier DEFAULT NEWSEQUENTIALID(),\r\n    GUID2 uniqueidentifier DEFAULT NEWSEQUENTIALID(),\r\n    GUID3 uniqueidentifier DEFAULT NEWSEQUENTIALID(),\r\n    CONSTRAINT PK_SeqGUIDs PRIMARY KEY CLUSTERED (GUID1) WITH (DATA_COMPRESSION = NONE)\r\n);\r\nCREATE TABLE SequentialGUIDs_ROW (\r\n    SomeID    tinyint,\r\n    GUID1 uniqueidentifier DEFAULT NEWSEQUENTIALID(),\r\n    GUID2 uniqueidentifier DEFAULT NEWSEQUENTIALID(),\r\n    GUID3 uniqueidentifier DEFAULT NEWSEQUENTIALID(),\r\n    CONSTRAINT PK_SeqGUIDs_ROW PRIMARY KEY CLUSTERED (GUID1) WITH (DATA_COMPRESSION = ROW)\r\n);\r\nCREATE TABLE SequentialGUIDs_PAGE (\r\n    SomeID    tinyint,\r\n    GUID1 uniqueidentifier DEFAULT NEWSEQUENTIALID(),\r\n    GUID2 uniqueidentifier DEFAULT NEWSEQUENTIALID(),\r\n    GUID3 uniqueidentifier DEFAULT NEWSEQUENTIALID(),\r\n    CONSTRAINT PK_SeqGUIDs_PAGE PRIMARY KEY CLUSTERED (GUID1) WITH (DATA_COMPRESSION = PAGE)\r\n);\r\nGO\r\n\r\n--insert a bunch of data\r\n--note runtimes will vary\r\nINSERT INTO SequentialGUIDs (SomeID)\r\nSELECT 1\r\nFROM AW_NONE.sys.objects o1, AW_NONE.sys.objects o2\r\nGO 20\r\n\r\nINSERT INTO SequentialGUIDs_ROW (SomeID)\r\nSELECT 1\r\nFROM AW_NONE.sys.objects o1, AW_NONE.sys.objects o2\r\nGO 20\r\n\r\nINSERT INTO SequentialGUIDs_PAGE (SomeID)\r\nSELECT 1\r\nFROM AW_NONE.sys.objects o1, AW_NONE.sys.objects o2\r\nGO 20",
            "metadata": {},
            "outputs": [
                {
                    "output_type": "display_data",
                    "data": {
                        "text/html": "Commands completed successfully."
                    },
                    "metadata": {}
                },
                {
                    "output_type": "display_data",
                    "data": {
                        "text/html": "Total execution time: 00:00:00.0006576"
                    },
                    "metadata": {}
                },
                {
                    "output_type": "error",
                    "ename": "",
                    "evalue": "Msg 2714, Level 16, State 6, Line 7\r\nThere is already an object named 'SequentialGUIDs' in the database.",
                    "traceback": []
                },
                {
                    "output_type": "display_data",
                    "data": {
                        "text/html": "Total execution time: 00:00:00.0012384"
                    },
                    "metadata": {}
                },
                {
                    "output_type": "display_data",
                    "data": {
                        "text/html": "Beginning execution loop"
                    },
                    "metadata": {}
                },
                {
                    "output_type": "display_data",
                    "data": {
                        "text/html": "Batch execution completed 20 times..."
                    },
                    "metadata": {}
                },
                {
                    "output_type": "display_data",
                    "data": {
                        "text/html": "Total execution time: 00:00:35.3616200"
                    },
                    "metadata": {}
                },
                {
                    "output_type": "display_data",
                    "data": {
                        "text/html": "Beginning execution loop"
                    },
                    "metadata": {}
                },
                {
                    "output_type": "display_data",
                    "data": {
                        "text/html": "Batch execution completed 20 times..."
                    },
                    "metadata": {}
                },
                {
                    "output_type": "display_data",
                    "data": {
                        "text/html": "Total execution time: 00:00:37.2629255"
                    },
                    "metadata": {}
                },
                {
                    "output_type": "display_data",
                    "data": {
                        "text/html": "Beginning execution loop"
                    },
                    "metadata": {}
                },
                {
                    "output_type": "display_data",
                    "data": {
                        "text/html": "Batch execution completed 20 times..."
                    },
                    "metadata": {}
                },
                {
                    "output_type": "display_data",
                    "data": {
                        "text/html": "Total execution time: 00:00:48.4191067"
                    },
                    "metadata": {}
                }
            ],
            "execution_count": 19
        }
    ]
}