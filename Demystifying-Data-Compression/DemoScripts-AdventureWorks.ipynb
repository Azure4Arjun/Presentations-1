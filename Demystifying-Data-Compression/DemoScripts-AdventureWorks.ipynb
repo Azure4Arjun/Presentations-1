{
    "metadata": {
        "kernelspec": {
            "name": "SQL",
            "display_name": "SQL",
            "language": "sql"
        },
        "language_info": {
            "name": "sql",
            "version": ""
        }
    },
    "nbformat_minor": 2,
    "nbformat": 4,
    "cells": [
        {
            "cell_type": "markdown",
            "source": "## Restore Databases\r\nRestore the AdventureWorks database three times: All from the same backup file, but with three different names. You'll need to download the Backup file from [Github](https://docs.microsoft.com/en-us/sql/samples/adventureworks-install-configure?view=sql-server-2017).\r\n\r\n*You will also have to adjust paths for the file locations: both of the backup & the restore location*",
            "metadata": {}
        },
        {
            "cell_type": "code",
            "source": "USE master\r\nGO\r\n\r\nRESTORE DATABASE AW_NONE\r\nFROM DISK = 'C:\\SQL\\BAK\\AdventureWorks2014.bak'\r\nWITH MOVE 'AdventureWorks2014_Data' TO 'C:\\SQL\\MSSQL15.MSSQLSERVER\\MSSQL\\DATA\\AW_NONE_Data.mdf'\r\n    ,MOVE 'AdventureWorks2014_Log' TO 'C:\\SQL\\MSSQL15.MSSQLSERVER\\MSSQL\\DATA\\AW_NONE_Log.ldf'\r\n    ,REPLACE;\r\n\r\nRESTORE DATABASE AW_ROW\r\nFROM DISK = 'C:\\SQL\\BAK\\AdventureWorks2014.bak'\r\nWITH MOVE 'AdventureWorks2014_Data' TO 'C:\\SQL\\MSSQL15.MSSQLSERVER\\MSSQL\\DATA\\AW_ROW_Data.mdf'\r\n    ,MOVE 'AdventureWorks2014_Log' TO 'C:\\SQL\\MSSQL15.MSSQLSERVER\\MSSQL\\DATA\\AW_ROW_Log.ldf'\r\n    ,REPLACE;\r\n\r\n\r\nRESTORE DATABASE AW_PAGE\r\nFROM DISK = 'C:\\SQL\\BAK\\AdventureWorks2014.bak'\r\nWITH MOVE 'AdventureWorks2014_Data' TO 'C:\\SQL\\MSSQL15.MSSQLSERVER\\MSSQL\\DATA\\AW_PAGE_Data.mdf'\r\n    ,MOVE 'AdventureWorks2014_Log' TO 'C:\\SQL\\MSSQL15.MSSQLSERVER\\MSSQL\\DATA\\AW_PAGE_Log.ldf'\r\n    ,REPLACE;\r\n\r\n\r\n",
            "metadata": {},
            "outputs": [],
            "execution_count": 1
        },
        {
            "cell_type": "markdown",
            "source": "## Create `dbo.ObjectSize` as a view to easily look at how large objects are\r\nWe'll do this in all three databases.\r\n\r\nI'm using the `CREATE OR ALTER` syntax that is supported in SQL Server 2016+.",
            "metadata": {}
        },
        {
            "cell_type": "code",
            "source": "USE AW_NONE\r\nGO\r\nCREATE OR ALTER VIEW dbo.ObjectSize\r\nAS\r\nSELECT DatabaseName    = 'AW_NONE',\r\n       ObjectName      = o.name, \r\n       IndexName       = i.name,\r\n       PageType        = au.type_desc,\r\n       CompressionType = p.data_compression_desc, \r\n       NumberRows      = p.rows, \r\n       TotalPages      = au.total_pages, \r\n       TotalSizeKB     = au.total_pages*8\r\nFROM sys.objects o\r\nJOIN sys.indexes i ON i.object_id = o.object_id\r\nJOIN sys.partitions p ON o.object_id = p.object_id AND i.index_id = p.index_id\r\nJOIN sys.allocation_units au ON p.hobt_id = au.container_id;\r\nGO\r\n--\r\n--\r\nUSE AW_ROW\r\nGO\r\nCREATE OR ALTER VIEW dbo.ObjectSize\r\nAS\r\nSELECT DatabaseName    = 'AW_ROW',\r\n       ObjectName      = o.name, \r\n       IndexName       = i.name,\r\n       PageType        = au.type_desc,\r\n       CompressionType = p.data_compression_desc, \r\n       NumberRows      = p.rows, \r\n       TotalPages      = au.total_pages, \r\n       TotalSizeKB     = au.total_pages*8\r\nFROM sys.objects o\r\nJOIN sys.indexes i ON i.object_id = o.object_id\r\nJOIN sys.partitions p ON o.object_id = p.object_id AND i.index_id = p.index_id\r\nJOIN sys.allocation_units au ON p.hobt_id = au.container_id;\r\nGO\r\n--\r\n--\r\nUSE AW_PAGE\r\nGO\r\nCREATE OR ALTER VIEW dbo.ObjectSize\r\nAS\r\nSELECT DatabaseName    = 'AW_PAGE',\r\n       ObjectName      = o.name, \r\n       IndexName       = i.name,\r\n       PageType        = au.type_desc,\r\n       CompressionType = p.data_compression_desc, \r\n       NumberRows      = p.rows, \r\n       TotalPages      = au.total_pages, \r\n       TotalSizeKB     = au.total_pages*8\r\nFROM sys.objects o\r\nJOIN sys.indexes i ON i.object_id = o.object_id\r\nJOIN sys.partitions p ON o.object_id = p.object_id AND i.index_id = p.index_id\r\nJOIN sys.allocation_units au ON p.hobt_id = au.container_id;\r\nGO\r\n",
            "metadata": {},
            "outputs": [
                {
                    "output_type": "display_data",
                    "data": {
                        "text/html": "Commands completed successfully."
                    },
                    "metadata": {}
                },
                {
                    "output_type": "display_data",
                    "data": {
                        "text/html": "Commands completed successfully."
                    },
                    "metadata": {}
                },
                {
                    "output_type": "display_data",
                    "data": {
                        "text/html": "Commands completed successfully."
                    },
                    "metadata": {}
                },
                {
                    "output_type": "display_data",
                    "data": {
                        "text/html": "Commands completed successfully."
                    },
                    "metadata": {}
                },
                {
                    "output_type": "display_data",
                    "data": {
                        "text/html": "Commands completed successfully."
                    },
                    "metadata": {}
                },
                {
                    "output_type": "display_data",
                    "data": {
                        "text/html": "Commands completed successfully."
                    },
                    "metadata": {}
                },
                {
                    "output_type": "display_data",
                    "data": {
                        "text/html": "Total execution time: 00:00:00.062"
                    },
                    "metadata": {}
                }
            ],
            "execution_count": 2
        },
        {
            "cell_type": "markdown",
            "source": "## Lets use the view to show all three databases are still the same",
            "metadata": {}
        },
        {
            "cell_type": "code",
            "source": "SELECT DatabaseName,   \r\n       NumberRows      = SUM(NumberRows), \r\n       TotalPages      = SUM(TotalPages), \r\n       TotalSizeKB     = SUM(TotalSizeKB)\r\nFROM AW_NONE.dbo.ObjectSize\r\nGROUP BY DatabaseName\r\nUNION ALL\r\nSELECT DatabaseName,   \r\n       NumberRows      = SUM(NumberRows), \r\n       TotalPages      = SUM(TotalPages), \r\n       TotalSizeKB     = SUM(TotalSizeKB)\r\nFROM AW_ROW.dbo.ObjectSize\r\nGROUP BY DatabaseName\r\nUNION ALL\r\nSELECT DatabaseName,   \r\n       NumberRows      = SUM(NumberRows), \r\n       TotalPages      = SUM(TotalPages), \r\n       TotalSizeKB     = SUM(TotalSizeKB)\r\nFROM AW_PAGE.dbo.ObjectSize\r\nGROUP BY DatabaseName\r\nORDER BY TotalSizeKB DESC;",
            "metadata": {},
            "outputs": [
                {
                    "output_type": "display_data",
                    "data": {
                        "text/html": "(3 rows affected)"
                    },
                    "metadata": {}
                },
                {
                    "output_type": "display_data",
                    "data": {
                        "text/html": "Total execution time: 00:00:00.944"
                    },
                    "metadata": {}
                },
                {
                    "output_type": "execute_result",
                    "metadata": {},
                    "execution_count": 3,
                    "data": {
                        "application/vnd.dataresource+json": {
                            "schema": {
                                "fields": [
                                    {
                                        "name": "DatabaseName"
                                    },
                                    {
                                        "name": "NumberRows"
                                    },
                                    {
                                        "name": "TotalPages"
                                    },
                                    {
                                        "name": "TotalSizeKB"
                                    }
                                ]
                            },
                            "data": [
                                {
                                    "0": "AW_NONE",
                                    "1": "4959992",
                                    "2": "24465",
                                    "3": "195720"
                                },
                                {
                                    "0": "AW_PAGE",
                                    "1": "4959992",
                                    "2": "24465",
                                    "3": "195720"
                                },
                                {
                                    "0": "AW_ROW",
                                    "1": "4959992",
                                    "2": "24465",
                                    "3": "195720"
                                }
                            ]
                        },
                        "text/html": "<table><tr><th>DatabaseName</th><th>NumberRows</th><th>TotalPages</th><th>TotalSizeKB</th></tr><tr><td>AW_NONE</td><td>4959992</td><td>24465</td><td>195720</td></tr><tr><td>AW_PAGE</td><td>4959992</td><td>24465</td><td>195720</td></tr><tr><td>AW_ROW</td><td>4959992</td><td>24465</td><td>195720</td></tr></table>"
                    }
                }
            ],
            "execution_count": 3
        },
        {
            "cell_type": "markdown",
            "source": "See? Proof they are all exactly the same size (so far).\r\n\r\n## Rebuild indexes in all three databases\r\nEach database will get indexes rebuilt using a different compression level. \r\nCreate this `REBUILD` proc in each of the databases, then execute it.",
            "metadata": {}
        },
        {
            "cell_type": "code",
            "source": "/*\r\n     ███╗   ██╗ ██████╗ ███╗   ██╗███████╗    \r\n     ████╗  ██║██╔═══██╗████╗  ██║██╔════╝    \r\n     ██╔██╗ ██║██║   ██║██╔██╗ ██║█████╗      \r\n     ██║╚██╗██║██║   ██║██║╚██╗██║██╔══╝      \r\n     ██║ ╚████║╚██████╔╝██║ ╚████║███████╗    \r\n     ╚═╝  ╚═══╝ ╚═════╝ ╚═╝  ╚═══╝╚══════╝   \r\n*/\r\nUSE AW_NONE\r\nGO\r\nCREATE OR ALTER PROCEDURE dbo.Rebuild_All_Indexes @CompressionLevel nvarchar(4)\r\n    AS\r\nDECLARE @sql nvarchar(max) = '';\r\n--\r\nSELECT @sql += N'ALTER TABLE [' + s.name + N'].[' + t.name + N'] REBUILD WITH (DATA_COMPRESSION=' + @CompressionLevel + N');'\r\nFROM sys.objects t\r\nJOIN sys.schemas s ON t.schema_id = s.schema_id\r\nJOIN sys.indexes i ON i.object_id = t.object_id\r\nWHERE i.type = 0  --Just heaps\r\nAND t.type IN ('U','V')\r\nORDER BY s.name, t.name;\r\n--\r\nSELECT @sql += N'ALTER INDEX [' + i.name + N'] ON [' + s.name + N'].[' + t.name + N'] REBUILD WITH (DATA_COMPRESSION=' + @CompressionLevel + N');'\r\nFROM sys.objects t\r\nJOIN sys.schemas s ON t.schema_id = s.schema_id\r\nJOIN sys.indexes i ON i.object_id = t.object_id\r\nWHERE i.type NOT IN (0,3) --Exclude heaps & XML indexes\r\nAND t.type IN ('U','V')\r\nORDER BY s.name, t.name;\r\n--\r\nPRINT 'Rebuilding indexes with ' + @CompressionLevel + ' compression...'\r\nEXEC sp_executesql @sql;\r\nGO\r\n/*\r\n     ██████╗  ██████╗ ██╗    ██╗\r\n     ██╔══██╗██╔═══██╗██║    ██║\r\n     ██████╔╝██║   ██║██║ █╗ ██║\r\n     ██╔══██╗██║   ██║██║███╗██║\r\n     ██║  ██║╚██████╔╝╚███╔███╔╝\r\n     ╚═╝  ╚═╝ ╚═════╝  ╚══╝╚══╝ \r\n*/\r\nUSE AW_ROW\r\nGO\r\n\r\nCREATE OR ALTER PROCEDURE dbo.Rebuild_All_Indexes @CompressionLevel nvarchar(4)\r\n    AS\r\nDECLARE @sql nvarchar(max) = '';\r\n--\r\nSELECT @sql += N'ALTER TABLE [' + s.name + N'].[' + t.name + N'] REBUILD WITH (DATA_COMPRESSION=' + @CompressionLevel + N');'\r\nFROM sys.objects t\r\nJOIN sys.schemas s ON t.schema_id = s.schema_id\r\nJOIN sys.indexes i ON i.object_id = t.object_id\r\nWHERE i.type = 0  --Just heaps\r\nAND t.type IN ('U','V')\r\nORDER BY s.name, t.name;\r\n--\r\nSELECT @sql += N'ALTER INDEX [' + i.name + N'] ON [' + s.name + N'].[' + t.name + N'] REBUILD WITH (DATA_COMPRESSION=' + @CompressionLevel + N');'\r\nFROM sys.objects t\r\nJOIN sys.schemas s ON t.schema_id = s.schema_id\r\nJOIN sys.indexes i ON i.object_id = t.object_id\r\nWHERE i.type NOT IN (0,3) --Exclude heaps & XML indexes\r\nAND t.type IN ('U','V')\r\nORDER BY s.name, t.name;\r\n--\r\nPRINT 'Rebuilding indexes with ' + @CompressionLevel + ' compression...'\r\nEXEC sp_executesql @sql;\r\nGO\r\n/*\r\n     ██████╗  █████╗  ██████╗ ███████╗\r\n     ██╔══██╗██╔══██╗██╔════╝ ██╔════╝\r\n     ██████╔╝███████║██║  ███╗█████╗  \r\n     ██╔═══╝ ██╔══██║██║   ██║██╔══╝  \r\n     ██║     ██║  ██║╚██████╔╝███████╗\r\n     ╚═╝     ╚═╝  ╚═╝ ╚═════╝ ╚══════╝\r\n*/\r\nUSE AW_PAGE\r\nGO\r\n\r\nCREATE OR ALTER PROCEDURE dbo.Rebuild_All_Indexes @CompressionLevel nvarchar(4)\r\n    AS\r\nDECLARE @sql nvarchar(max) = '';\r\n--\r\nSELECT @sql += N'ALTER TABLE [' + s.name + N'].[' + t.name + N'] REBUILD WITH (DATA_COMPRESSION=' + @CompressionLevel + N');'\r\nFROM sys.objects t\r\nJOIN sys.schemas s ON t.schema_id = s.schema_id\r\nJOIN sys.indexes i ON i.object_id = t.object_id\r\nWHERE i.type = 0  --Just heaps\r\nAND t.type IN ('U','V')\r\nORDER BY s.name, t.name;\r\n--\r\nSELECT @sql += N'ALTER INDEX [' + i.name + N'] ON [' + s.name + N'].[' + t.name + N'] REBUILD WITH (DATA_COMPRESSION=' + @CompressionLevel + N');'\r\nFROM sys.objects t\r\nJOIN sys.schemas s ON t.schema_id = s.schema_id\r\nJOIN sys.indexes i ON i.object_id = t.object_id\r\nWHERE i.type NOT IN (0,3) --Exclude heaps & XML indexes\r\nAND t.type IN ('U','V')\r\nORDER BY s.name, t.name;\r\n--\r\nPRINT 'Rebuilding indexes with ' + @CompressionLevel + ' compression...'\r\nEXEC sp_executesql @sql;\r\nGO\r\n/*\r\n███████╗██╗  ██╗███████╗ ██████╗██╗   ██╗████████╗███████╗\r\n██╔════╝╚██╗██╔╝██╔════╝██╔════╝██║   ██║╚══██╔══╝██╔════╝\r\n█████╗   ╚███╔╝ █████╗  ██║     ██║   ██║   ██║   █████╗  \r\n██╔══╝   ██╔██╗ ██╔══╝  ██║     ██║   ██║   ██║   ██╔══╝  \r\n███████╗██╔╝ ██╗███████╗╚██████╗╚██████╔╝   ██║   ███████╗\r\n╚══════╝╚═╝  ╚═╝╚══════╝ ╚═════╝ ╚═════╝    ╚═╝   ╚══════╝\r\n*/\r\nEXEC AW_NONE.dbo.Rebuild_All_Indexes 'NONE';\r\nGO\r\nEXEC  AW_ROW.dbo.Rebuild_All_Indexes 'ROW';\r\nGO\r\nEXEC AW_PAGE.dbo.Rebuild_All_Indexes 'PAGE';\r\nGO",
            "metadata": {},
            "outputs": [
                {
                    "output_type": "display_data",
                    "data": {
                        "text/html": "Commands completed successfully."
                    },
                    "metadata": {}
                },
                {
                    "output_type": "display_data",
                    "data": {
                        "text/html": "Commands completed successfully."
                    },
                    "metadata": {}
                },
                {
                    "output_type": "display_data",
                    "data": {
                        "text/html": "Commands completed successfully."
                    },
                    "metadata": {}
                },
                {
                    "output_type": "display_data",
                    "data": {
                        "text/html": "Commands completed successfully."
                    },
                    "metadata": {}
                },
                {
                    "output_type": "display_data",
                    "data": {
                        "text/html": "Commands completed successfully."
                    },
                    "metadata": {}
                },
                {
                    "output_type": "display_data",
                    "data": {
                        "text/html": "Commands completed successfully."
                    },
                    "metadata": {}
                },
                {
                    "output_type": "display_data",
                    "data": {
                        "text/html": "Rebuilding indexes with NONE compression..."
                    },
                    "metadata": {}
                },
                {
                    "output_type": "display_data",
                    "data": {
                        "text/html": "Rebuilding indexes with ROW compression..."
                    },
                    "metadata": {}
                },
                {
                    "output_type": "display_data",
                    "data": {
                        "text/html": "Rebuilding indexes with PAGE compression..."
                    },
                    "metadata": {}
                },
                {
                    "output_type": "display_data",
                    "data": {
                        "text/html": "Total execution time: 00:00:24.953"
                    },
                    "metadata": {}
                }
            ],
            "execution_count": 4
        },
        {
            "cell_type": "markdown",
            "source": "## OK, now let's check the size again",
            "metadata": {}
        },
        {
            "cell_type": "code",
            "source": "SELECT DatabaseName,   \r\n       TotalPages      = SUM(TotalPages), \r\n       TotalSizeKB     = SUM(TotalSizeKB)\r\nFROM AW_NONE.dbo.ObjectSize\r\nGROUP BY DatabaseName\r\nUNION ALL\r\nSELECT DatabaseName,   \r\n       TotalPages      = SUM(TotalPages), \r\n       TotalSizeKB     = SUM(TotalSizeKB)\r\nFROM AW_ROW.dbo.ObjectSize\r\nGROUP BY DatabaseName\r\nUNION ALL\r\nSELECT DatabaseName,   \r\n       TotalPages      = SUM(TotalPages), \r\n       TotalSizeKB     = SUM(TotalSizeKB)\r\nFROM AW_PAGE.dbo.ObjectSize\r\nGROUP BY DatabaseName\r\nORDER BY TotalSizeKB DESC;",
            "metadata": {},
            "outputs": [],
            "execution_count": 38
        },
        {
            "cell_type": "markdown",
            "source": "## Let's look at some specific tables!",
            "metadata": {}
        },
        {
            "cell_type": "code",
            "source": "SELECT DatabaseName, ObjectName, TotalSizeKB = SUM(TotalSizeKB)\r\nFROM AW_NONE.dbo.ObjectSize      \r\nWHERE ObjectName IN ('SalesOrderDetail','Person','JobCandidate','vProductAndDescription')\r\nGROUP BY DatabaseName, ObjectName\r\nUNION\r\nSELECT DatabaseName, ObjectName, TotalSizeKB = SUM(TotalSizeKB)\r\nFROM AW_ROW.dbo.ObjectSize      \r\nWHERE ObjectName IN ('SalesOrderDetail','Person','JobCandidate','vProductAndDescription')\r\nGROUP BY DatabaseName, ObjectName\r\nUNION\r\nSELECT DatabaseName, ObjectName, TotalSizeKB = SUM(TotalSizeKB)\r\nFROM AW_PAGE.dbo.ObjectSize      \r\nWHERE ObjectName IN ('SalesOrderDetail','Person','JobCandidate','vProductAndDescription')\r\nGROUP BY DatabaseName, ObjectName\r\nORDER BY ObjectName, TotalSizeKb DESC",
            "metadata": {},
            "outputs": [],
            "execution_count": 15
        },
        {
            "cell_type": "markdown",
            "source": "## Results\r\n\r\n* Job Candidate table is the same size, regardless of compression\r\n* Person saves 2% with ROW compression, and an *additional* 4% with PAGE compression\r\n* SalesOrderDetail saves 19% with ROW compression and an *additional* 18% with PAGE compression\r\n* vProductAndDescription saves 40% with ROW compression but only an additional 64kb with PAGE compression",
            "metadata": {}
        },
        {
            "cell_type": "markdown",
            "source": "## Lets look at `HumanResources.JobCandidate`\r\n\r\n* Job Candidate table is the same size, regardless of compression.\r\n\r\n",
            "metadata": {}
        },
        {
            "cell_type": "code",
            "source": "USE AW_PAGE\r\n\r\nSELECT DbName             = db_name(database_id) \r\n      ,TableName          = object_name(object_id,database_id) \r\n      ,IndexID            = index_id\r\n      ,IndexType          = index_type_desc\r\n      ,AllocUnitType      = alloc_unit_type_desc\r\n      ,IndexSizeKB        = page_count * 8\r\n      ,CompressedPages    = compressed_page_count\r\n      ,UncompressedPages  = page_count - compressed_page_count\r\n      ,AvgRecordSizeBytes = avg_record_size_in_bytes\r\nFROM sys.dm_db_index_physical_stats(db_id('AW_PAGE'),\r\n                                    object_id('HumanResources.JobCandidate'),\r\n                                    NULL,NULL,'Detailed') -- Have to use Detailed mode to get compression info\r\nWHERE index_level = 0 --Only the leaf level of the index\r\nORDER BY compressed_page_count DESC, \r\n         page_count DESC;",
            "metadata": {},
            "outputs": [],
            "execution_count": 16
        },
        {
            "cell_type": "markdown",
            "source": "## Let's look at the data in the table",
            "metadata": {}
        },
        {
            "cell_type": "code",
            "source": "SELECT * FROM HumanResources.JobCandidate;",
            "metadata": {},
            "outputs": [],
            "execution_count": 17
        },
        {
            "cell_type": "markdown",
            "source": "## Lets look at `Production.vProductAndDescription`\r\n\r\n* vProductAndDescription saves 40% with ROW compression but only an additional 64kb with PAGE compression",
            "metadata": {}
        },
        {
            "cell_type": "code",
            "source": "USE AW_PAGE\r\n\r\nSELECT DbName             = db_name(database_id) \r\n      ,TableName          = object_name(object_id,database_id) \r\n      ,IndexID            = index_id\r\n      ,IndexType          = index_type_desc\r\n      ,AllocUnitType      = alloc_unit_type_desc\r\n      ,IndexSizeKB        = page_count * 8\r\n      ,CompressedPages    = compressed_page_count\r\n      ,UncompressedPages  = page_count - compressed_page_count\r\n      ,AvgRecordSizeBytes = avg_record_size_in_bytes\r\nFROM sys.dm_db_index_physical_stats(db_id('AW_PAGE'),\r\n                                    object_id('Production.vProductAndDescription'),\r\n                                    NULL,NULL,'Detailed') -- Have to use Detailed mode to get compression info\r\nWHERE index_level = 0 --Only the leaf level of the index\r\nORDER BY compressed_page_count DESC, \r\n         page_count DESC;",
            "metadata": {},
            "outputs": [],
            "execution_count": 18
        },
        {
            "cell_type": "markdown",
            "source": "## Let's look at the data in the table",
            "metadata": {}
        },
        {
            "cell_type": "code",
            "source": "SELECT TOP 100 * FROM Production.vProductAndDescription;",
            "metadata": {},
            "outputs": [],
            "execution_count": 20
        },
        {
            "cell_type": "markdown",
            "source": "## Lets look at `Person.Person`\r\n\r\n* Person saves 2% with ROW compression, and an *additional* 4% with PAGE compression",
            "metadata": {}
        },
        {
            "cell_type": "code",
            "source": "USE AW_PAGE\r\n\r\nSELECT DbName             = db_name(database_id) \r\n      ,TableName          = object_name(object_id,database_id) \r\n      ,IndexID            = index_id\r\n      ,IndexType          = index_type_desc\r\n      ,AllocUnitType      = alloc_unit_type_desc\r\n      ,IndexSizeKB        = page_count * 8\r\n      ,CompressedPages    = compressed_page_count\r\n      ,UncompressedPages  = page_count - compressed_page_count\r\n      ,AvgRecordSizeBytes = avg_record_size_in_bytes\r\nFROM sys.dm_db_index_physical_stats(db_id('AW_PAGE'),\r\n                                    object_id('Person.Person'),\r\n                                    NULL,NULL,'Detailed') -- Have to use Detailed mode to get compression info\r\nWHERE index_level = 0 --Only the leaf level of the index\r\nAND index_id < 256000  --Exclude XML indexes\r\nORDER BY compressed_page_count DESC, \r\n         page_count DESC;",
            "metadata": {},
            "outputs": [],
            "execution_count": 21
        },
        {
            "cell_type": "markdown",
            "source": "## What's  Index_Id 3 and why isn't it compressed?",
            "metadata": {}
        },
        {
            "cell_type": "code",
            "source": "USE AW_PAGE;\r\nEXEC sp_SQLskills_helpindex 'Person.Person';",
            "metadata": {},
            "outputs": [],
            "execution_count": 22
        },
        {
            "cell_type": "markdown",
            "source": "## Let's look at the data in the table",
            "metadata": {}
        },
        {
            "cell_type": "code",
            "source": "SELECT TOP 50 rowguid\r\nFROM Person.Person\r\nORDER BY rowguid;",
            "metadata": {},
            "outputs": [],
            "execution_count": 23
        },
        {
            "cell_type": "markdown",
            "source": "## Lets look at `Sales.SalesOrderDetail`\r\n\r\n* SalesOrderDetail saves 19% with ROW compression and an *additional* 18% with PAGE compression\r\n\r\nLet's look at the indexes.... Which ones might be good candidates for compression?",
            "metadata": {}
        },
        {
            "cell_type": "code",
            "source": "USE AW_PAGE\r\nEXEC sp_SQLskills_helpindex 'Sales.SalesOrderDetail'",
            "metadata": {},
            "outputs": [],
            "execution_count": 24
        },
        {
            "cell_type": "markdown",
            "source": "## Let's look at the data in the table\r\n### `PK_SalesOrderDetail_SalesOrderID_SalesOrderDetailID`",
            "metadata": {}
        },
        {
            "cell_type": "code",
            "source": "USE AW_PAGE\r\n\r\nSELECT TOP 50 SalesOrderID, SalesOrderDetailID\r\nFROM Sales.SalesOrderDetail\r\nORDER BY SalesOrderID, SalesOrderDetailID;",
            "metadata": {},
            "outputs": [],
            "execution_count": 25
        },
        {
            "cell_type": "markdown",
            "source": "### `AK_SalesOrderDetail_rowguid`",
            "metadata": {}
        },
        {
            "cell_type": "code",
            "source": "USE AW_PAGE\r\n\r\nSELECT TOP 50 rowguid, SalesOrderID, SalesOrderDetailID\r\nFROM Sales.SalesOrderDetail\r\nORDER BY rowguid;",
            "metadata": {},
            "outputs": [],
            "execution_count": 26
        },
        {
            "cell_type": "markdown",
            "source": "### `IX_SalesOrderDetail_ProductID`",
            "metadata": {}
        },
        {
            "cell_type": "code",
            "source": "USE AW_PAGE\r\n\r\nSELECT TOP 50 ProductID, SalesOrderID, SalesOrderDetailID\r\nFROM Sales.SalesOrderDetail\r\nORDER BY ProductID;",
            "metadata": {},
            "outputs": [],
            "execution_count": 27
        },
        {
            "cell_type": "markdown",
            "source": "## One more thing... Maintenance Cost",
            "metadata": {}
        },
        {
            "cell_type": "code",
            "source": "EXEC AW_NONE.dbo.Rebuild_All_Indexes 'NONE';\r\nGO\r\nEXEC  AW_ROW.dbo.Rebuild_All_Indexes 'ROW';\r\nGO\r\nEXEC AW_PAGE.dbo.Rebuild_All_Indexes 'PAGE';\r\nGO",
            "metadata": {},
            "outputs": [],
            "execution_count": 32
        }
    ]
}