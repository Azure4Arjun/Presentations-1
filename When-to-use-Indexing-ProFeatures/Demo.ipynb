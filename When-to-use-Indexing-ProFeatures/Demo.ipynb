{
    "metadata": {
        "kernelspec": {
            "name": "SQL",
            "display_name": "SQL",
            "language": "sql"
        },
        "language_info": {
            "name": "sql",
            "version": ""
        }
    },
    "nbformat_minor": 2,
    "nbformat": 4,
    "cells": [
        {
            "cell_type": "markdown",
            "source": [
                "# Index Pro Features\r\n",
                "\r\n",
                "* Demo Setup\r\n",
                "* Filtered Indexes\r\n",
                "* Compressed Indexes\r\n",
                "* Included Columns\r\n",
                "* Partitioned Indexes\r\n",
                "* Columnstore Indexes"
            ],
            "metadata": {
                "azdata_cell_guid": "5a115901-9c5f-4c19-8797-c357bf23d9b4"
            }
        },
        {
            "cell_type": "markdown",
            "source": [
                "## Demo Setup\n",
                "\n",
                "<div style=\"border:1px solid #888;padding:6px\"> <strong>⚠ Note:</strong> This takes up to 30 minutes on my quad-core i7 laptop. Creating dbo.ReallyBigTable is not fast--so I create rowstore & columnstore copies up front to make it comparison easier later. </div>\n",
                "\n",
                "* Create a DB to play in\n",
                "* Create a few tables\n",
                "* Fill them with some fun data"
            ],
            "metadata": {
                "azdata_cell_guid": "e6a707c2-de2f-493e-9de6-600d33f0b474"
            }
        },
        {
            "cell_type": "code",
            "source": [
                "USE master\n",
                "-- Create a DB to play in\n",
                "DROP DATABASE IF EXISTS IndexProFeatures;\n",
                "GO\n",
                "CREATE DATABASE IndexProFeatures;\n",
                "ALTER DATABASE IndexProFeatures \n",
                "    SET RECOVERY SIMPLE;\n",
                "\n",
                "GO\n",
                "USE IndexProFeatures\n",
                "GO\n",
                "SET NOCOUNT ON;\n",
                "--Create some tables\n",
                "\n",
                "--Create some tables\n",
                "CREATE TABLE dbo.WidgetQueue (\n",
                "    QueueID bigint identity(1,1),\n",
                "    QueueDate datetime2(0),\n",
                "    QueueStatus char(1),\n",
                "    SomeOtherStuff varchar(500),\n",
                "    ExternalID uniqueidentifier,\n",
                "    ExternalID2 uniqueidentifier CONSTRAINT DF_WidgetQueue_ExternalID2 DEFAULT NEWSEQUENTIALID(),\n",
                "    NullCol01 int,\n",
                "    NullCol02 int,\n",
                "    NullCol03 int,\n",
                "    NullCol04 int,\n",
                "    NullCol05 int,\n",
                "    NullCol06 int,\n",
                "    NullCol07 nchar(4),\n",
                "    NullCol08 nchar(4),\n",
                "    NullCol09 uniqueidentifier,\n",
                "    NullCol10 uniqueidentifier,\n",
                "    CONSTRAINT PK_WidgetQueue PRIMARY KEY CLUSTERED (QueueID)\n",
                ");\n",
                "\n",
                "CREATE TABLE dbo.ReallyBigTable_rowstore (\n",
                "    ReallyBigTableID bigint identity(1,1),\n",
                "    StoreID tinyint,\n",
                "    CustomerID int,\n",
                "    ProductID int,\n",
                "    TransactionTypeID int,\n",
                "    CONSTRAINT PK_ReallyBigTable_rs PRIMARY KEY CLUSTERED (ReallyBigTableID)\n",
                ");\n",
                "\n",
                "CREATE TABLE dbo.ReallyBigTable_columnstore (\n",
                "    ReallyBigTableID bigint,\n",
                "    StoreID tinyint,\n",
                "    CustomerID int,\n",
                "    ProductID int,\n",
                "    TransactionTypeID int);\n",
                "GO\n",
                "--Use some data\n",
                "INSERT INTO dbo.WidgetQueue (QueueDate, QueueStatus, SomeOtherStuff, ExternalID)\n",
                "SELECT  QueueDate      = DATEADD(DAY,-(c1.object_id%10), CONVERT(date,GETDATE())),\n",
                "        QueueStatus    = CASE c2. column_id%3\n",
                "                           WHEN 0 THEN 'Q' \n",
                "                           WHEN 1 THEN 'S' \n",
                "                           WHEN 2 THEN 'L' \n",
                "                         END,\n",
                "        SomeOtherStuff = c1.name + c2.name,\n",
                "        ExternalID     = NEWID()\n",
                "FROM sys.columns AS c1\n",
                "CROSS JOIN sys.columns AS c2;\n",
                "GO 5\n",
                "INSERT INTO dbo.ReallyBigTable_rowstore (StoreID, CustomerID, ProductID, TransactionTypeID)\n",
                "SELECT  StoreID             = c1.column_id,\n",
                "        CustomerID          = c1.object_id,\n",
                "        ProductID           = c2.object_id%10000,\n",
                "        TransactionTypeID   = c2.system_type_id\n",
                "FROM sys.columns AS c1\n",
                "CROSS JOIN sys.columns AS c2;\n",
                "GO 100\n",
                "\n",
                "INSERT INTO dbo.ReallyBigTable_columnstore (ReallyBigTableID, StoreID, CustomerID, ProductID, TransactionTypeID)\n",
                "SELECT ReallyBigTableID, StoreID, CustomerID, ProductID, TransactionTypeID\n",
                "FROM ReallyBigTable_rowstore;\n",
                "\n",
                "CREATE CLUSTERED COLUMNSTORE INDEX cci_ReallyBigTable ON dbo.ReallyBigTable_columnstore;\n",
                ""
            ],
            "metadata": {
                "azdata_cell_guid": "6324a79e-8e40-478f-8990-5e587bea498b",
                "tags": [
                    "hide_input"
                ]
            },
            "outputs": [],
            "execution_count": null
        },
        {
            "cell_type": "markdown",
            "source": [
                "## Filtered Indexes\r\n",
                ""
            ],
            "metadata": {
                "azdata_cell_guid": "ba0bf615-5215-4b05-a941-e8da97a284de"
            }
        },
        {
            "cell_type": "markdown",
            "source": [
                "### Query without any indexes\r\n",
                "\r\n",
                "* Look at number of reads, CPU, and execution time."
            ],
            "metadata": {
                "azdata_cell_guid": "a8ccc654-a9b1-4302-bdd4-dc79f9b66c4b"
            }
        },
        {
            "cell_type": "code",
            "source": [
                "USE IndexProFeatures\r\n",
                "GO\r\n",
                "SET STATISTICS IO,TIME ON;\r\n",
                "\r\n",
                "SELECT COUNT(*)\r\n",
                "FROM dbo.WidgetQueue q\r\n",
                "WHERE q.QueueStatus = 'S';\r\n",
                "\r\n",
                "SET STATISTICS IO,TIME OFF;"
            ],
            "metadata": {
                "azdata_cell_guid": "401c4939-f92b-4fdb-a372-dbd6318ec471",
                "tags": [
                    "hide_input"
                ]
            },
            "outputs": [],
            "execution_count": null
        },
        {
            "cell_type": "markdown",
            "source": [
                "<details>\r\n",
                "  <summary>Click to see execution plan</summary>\r\n",
                "  \r\n",
                "![WidgetQueue-Scan](Demo-Plans\\1-WidgetQueue-Scan.jpg)\r\n",
                "</details>"
            ],
            "metadata": {
                "azdata_cell_guid": "0686397f-724a-4a23-a27b-7055cb4ab496"
            }
        },
        {
            "cell_type": "markdown",
            "source": [
                "### Query with a \"regular\" non-clustered index\r\n",
                "\r\n",
                "* Look at number of reads, CPU, and execution time."
            ],
            "metadata": {
                "azdata_cell_guid": "711806c1-2abd-40e2-a019-a99a4911c788"
            }
        },
        {
            "cell_type": "code",
            "source": [
                "USE IndexProFeatures\r\n",
                "GO\r\n",
                "DROP INDEX IF EXISTS ix_QueueStatus ON dbo.WidgetQueue;\r\n",
                "CREATE INDEX ix_QueueStatus ON dbo.WidgetQueue (QueueStatus);\r\n",
                "\r\n",
                "SET STATISTICS IO,TIME ON;\r\n",
                "\r\n",
                "SELECT COUNT(*)\r\n",
                "FROM dbo.WidgetQueue q\r\n",
                "WHERE q.QueueStatus = 'S';\r\n",
                "\r\n",
                "SELECT TOP 1 QueueID\r\n",
                "FROM dbo.WidgetQueue q\r\n",
                "WHERE q.QueueStatus = 'S';\r\n",
                "\r\n",
                "SET STATISTICS IO,TIME OFF;"
            ],
            "metadata": {
                "azdata_cell_guid": "6cc2c402-e543-421d-9371-4fa3974c466f",
                "tags": [
                    "hide_input"
                ]
            },
            "outputs": [],
            "execution_count": null
        },
        {
            "cell_type": "markdown",
            "source": [
                "<details>\r\n",
                "  <summary>Click to see execution plans</summary>\r\n",
                "  \r\n",
                "![WidgetQueue-Count-Seek](Demo-Plans\\2-WidgetQueue-Count-Seek.jpg)\r\n",
                "![WidgetQueue-Top1-Seek](Demo-Plans\\3-WidgetQueue-Top1-Seek.jpg)\r\n",
                "\r\n",
                "</details>"
            ],
            "metadata": {
                "azdata_cell_guid": "f25a8dd5-cd1e-4637-9b1c-8314e1db0b61"
            }
        },
        {
            "cell_type": "markdown",
            "source": [
                "### Query with a filtered index\r\n",
                "\r\n",
                "* Look at number of reads, CPU, and execution time.\r\n",
                "* 🚨Open these queries in a new query window & look at the plans.⚡\r\n",
                "  * Are the last two the same query? Same plan? (_look at the seek_)"
            ],
            "metadata": {
                "azdata_cell_guid": "d72e9963-fa01-410f-ab41-f8eedf743b65"
            }
        },
        {
            "cell_type": "code",
            "source": [
                "USE IndexProFeatures\r\n",
                "GO\r\n",
                "DROP INDEX IF EXISTS ix_QueueStatus_filtered ON dbo.WidgetQueue;\r\n",
                "CREATE INDEX ix_QueueStatus_filtered ON dbo.WidgetQueue (QueueStatus) \r\n",
                "    WHERE QueueStatus = 'S';\r\n",
                "\r\n",
                "SET STATISTICS IO,TIME ON;\r\n",
                "\r\n",
                "SELECT COUNT(*)\r\n",
                "FROM dbo.WidgetQueue q\r\n",
                "WHERE q.QueueStatus = 'S';\r\n",
                "\r\n",
                "SELECT TOP 1 QueueID\r\n",
                "FROM dbo.WidgetQueue q\r\n",
                "WHERE q.QueueStatus = 'S';\r\n",
                "\r\n",
                "DECLARE @i char(1) = 'S';\r\n",
                "SELECT TOP 1 QueueID\r\n",
                "FROM dbo.WidgetQueue q\r\n",
                "WHERE q.QueueStatus = @i\r\n",
                "--AND q.QueueStatus IN ('s','o');\r\n",
                "\r\n",
                "SET STATISTICS IO,TIME OFF;"
            ],
            "metadata": {
                "azdata_cell_guid": "28d19a29-bae7-4dbb-80ef-c9669b93c884",
                "tags": [
                    "hide_input"
                ]
            },
            "outputs": [],
            "execution_count": null
        },
        {
            "cell_type": "markdown",
            "source": [
                "<details>\r\n",
                "  <summary>Click to see execution plans</summary>\r\n",
                "\r\n",
                "![WidgetQueue-Top1-Seek](Demo-Plans\\4-WidgetQueue-Count-Seek.jpg)\r\n",
                "![WidgetQueue-Count-Seek](Demo-Plans\\5-WidgetQueue-Top1-Seek.jpg)\r\n",
                "![WidgetQueue-Top1-Seek-param](Demo-Plans\\6-WidgetQueue-Top1-Seek-param.jpg)\r\n",
                "\r\n",
                "</details>"
            ],
            "metadata": {
                "azdata_cell_guid": "e7f8d0b3-842b-4c29-8447-45f3114ab2a6"
            }
        },
        {
            "cell_type": "markdown",
            "source": [
                "### Maintenance costs\r\n",
                "\r\n",
                "* Look at number of reads, CPU, and execution time."
            ],
            "metadata": {
                "azdata_cell_guid": "96b52488-0c53-4f90-af0f-0d832e4e7517"
            }
        },
        {
            "cell_type": "code",
            "source": [
                "USE IndexProFeatures\r\n",
                "GO\r\n",
                "SET STATISTICS IO,TIME ON;\r\n",
                "\r\n",
                "ALTER INDEX ix_QueueStatus ON dbo.WidgetQueue REBUILD;\r\n",
                "ALTER INDEX ix_QueueStatus_filtered ON dbo.WidgetQueue REBUILD;\r\n",
                "\r\n",
                "SET STATISTICS IO,TIME OFF;"
            ],
            "metadata": {
                "azdata_cell_guid": "886cfa3c-88f5-4ca6-962f-bdebe95d72ef",
                "tags": [
                    "hide_input"
                ]
            },
            "outputs": [],
            "execution_count": null
        },
        {
            "cell_type": "markdown",
            "source": [
                "<details>\r\n",
                "  <summary>Click to see execution plans</summary>\r\n",
                "  \r\n",
                "![WidgetQueue-RebuildUnfiltered](Demo-Plans\\7-WidgetQueue-RebuildUnfiltered.jpg)\r\n",
                "![WidgetQueue-RebuildFiltered](Demo-Plans\\8-WidgetQueue-RebuildFiltered.jpg)\r\n",
                "\r\n",
                "</details>"
            ],
            "metadata": {
                "azdata_cell_guid": "2ca03edb-18c6-43cb-b361-11fcfb4e3ee7"
            }
        },
        {
            "cell_type": "markdown",
            "source": [
                "### Cleanup"
            ],
            "metadata": {
                "azdata_cell_guid": "5dd67d7d-530b-49bf-9b73-a57d9824ec5f"
            }
        },
        {
            "cell_type": "code",
            "source": [
                "USE IndexProFeatures\r\n",
                "GO\r\n",
                "SET STATISTICS IO,TIME OFF;\r\n",
                "DROP INDEX IF EXISTS ix_QueueStatus ON dbo.WidgetQueue;\r\n",
                "DROP INDEX IF EXISTS ix_QueueStatus_filtered ON dbo.WidgetQueue;"
            ],
            "metadata": {
                "azdata_cell_guid": "76ed1f56-5b20-4cfb-adfd-eaaadda7cc21",
                "tags": [
                    "hide_input"
                ]
            },
            "outputs": [],
            "execution_count": null
        },
        {
            "cell_type": "markdown",
            "source": [
                "## Compressed Indexes"
            ],
            "metadata": {
                "azdata_cell_guid": "023be5f3-5e33-4a57-9078-9c2f3fa899d0"
            }
        },
        {
            "cell_type": "markdown",
            "source": [
                "### Query with a non-clustered index\r\n",
                "\r\n",
                "* Look at number of reads, CPU, and execution time."
            ],
            "metadata": {
                "azdata_cell_guid": "54e801e7-c2e3-4580-90aa-91eeb9477d9a"
            }
        },
        {
            "cell_type": "code",
            "source": [
                "USE IndexProFeatures\r\n",
                "GO\r\n",
                "DROP INDEX IF EXISTS ix_QueueStatus ON dbo.WidgetQueue;\r\n",
                "CREATE INDEX ix_QueueStatus ON dbo.WidgetQueue (QueueStatus);\r\n",
                "\r\n",
                "SET STATISTICS IO,TIME ON;\r\n",
                "\r\n",
                "SELECT q.QueueStatus, COUNT(*)\r\n",
                "FROM dbo.WidgetQueue q\r\n",
                "WHERE q.QueueStatus = 'S'\r\n",
                "GROUP BY q.QueueStatus;\r\n",
                "\r\n",
                "SELECT TOP 10 *\r\n",
                "FROM dbo.WidgetQueue q\r\n",
                "WHERE q.QueueStatus = 'S';\r\n",
                "\r\n",
                "SET STATISTICS IO,TIME OFF;"
            ],
            "metadata": {
                "azdata_cell_guid": "5e182450-67eb-4951-927c-0a832b7692cb",
                "tags": [
                    "hide_input"
                ]
            },
            "outputs": [],
            "execution_count": null
        },
        {
            "cell_type": "markdown",
            "source": [
                "<details>\r\n",
                "  <summary>Click to see execution plans</summary>\r\n",
                "  \r\n",
                "![WidgetQueue-Count-Seek](Demo-Plans\\9-WidgetQueue-UncompressedCount.jpg)\r\n",
                "![WidgetQueue-Top1-Seek](Demo-Plans\\10-WidgetQueue-UncompressedTop.jpg)\r\n",
                "\r\n",
                "</details>"
            ],
            "metadata": {
                "azdata_cell_guid": "da981fd4-d9ec-4f7b-aebf-275be630823d"
            }
        },
        {
            "cell_type": "markdown",
            "source": [
                "### How about with a row-compressed index?\r\n",
                "\r\n",
                "* Look at number of reads, CPU, and execution time."
            ],
            "metadata": {
                "azdata_cell_guid": "9c01dc7f-0da9-4b8d-94f0-88ea1d4a0fe1"
            }
        },
        {
            "cell_type": "code",
            "source": [
                "USE IndexProFeatures\r\n",
                "GO\r\n",
                "DROP INDEX IF EXISTS ix_QueueStatus_row ON dbo.WidgetQueue;\r\n",
                "CREATE INDEX ix_QueueStatus_row ON dbo.WidgetQueue (QueueStatus) \n",
                "    WITH (DATA_COMPRESSION = ROW);\r\n",
                "GO\r\n",
                "SET STATISTICS IO,TIME ON;\r\n",
                "\r\n",
                "SELECT q.QueueStatus, COUNT(*)\r\n",
                "FROM dbo.WidgetQueue q WITH(index(ix_QueueStatus_row))\r\n",
                "WHERE q.QueueStatus = 'S'\r\n",
                "GROUP BY q.QueueStatus;\r\n",
                "\r\n",
                "SELECT TOP 10 QueueID\r\n",
                "FROM dbo.WidgetQueue q WITH(index(ix_QueueStatus_row))\r\n",
                "WHERE q.QueueStatus = 'S';\r\n",
                "\r\n",
                "SET STATISTICS IO,TIME OFF;"
            ],
            "metadata": {
                "azdata_cell_guid": "4b86448a-767b-4c19-b5cf-4907beca5d87",
                "tags": [
                    "hide_input"
                ]
            },
            "outputs": [],
            "execution_count": null
        },
        {
            "cell_type": "markdown",
            "source": [
                "<details>\r\n",
                "  <summary>Click to see execution plans</summary>\r\n",
                "  \r\n",
                "![WidgetQueue-RowCompressedCount](Demo-Plans\\11-WidgetQueue-RowCompressedCount.jpg)\r\n",
                "![WidgetQueue-RowCompressedTop](Demo-Plans\\12-WidgetQueue-RowCompressedTop.jpg)\r\n",
                "\r\n",
                "</details>"
            ],
            "metadata": {
                "azdata_cell_guid": "a1473c39-34bc-46fe-9d67-ba4724226107"
            }
        },
        {
            "cell_type": "markdown",
            "source": [
                "### With a page compressed index?"
            ],
            "metadata": {
                "azdata_cell_guid": "f7b6aa09-fc83-4657-b873-a73354a67e8c"
            }
        },
        {
            "cell_type": "code",
            "source": [
                "USE IndexProFeatures\r\n",
                "GO\r\n",
                "DROP INDEX IF EXISTS ix_QueueStatus_page ON dbo.WidgetQueue;\r\n",
                "CREATE INDEX ix_QueueStatus_page ON dbo.WidgetQueue (QueueStatus) \n",
                "    WITH (DATA_COMPRESSION = PAGE);\r\n",
                "GO\r\n",
                "\r\n",
                "SET STATISTICS IO,TIME ON;\r\n",
                "\r\n",
                "SELECT q.QueueStatus, COUNT(*)\r\n",
                "FROM dbo.WidgetQueue q WITH(index(ix_QueueStatus_page))\r\n",
                "WHERE q.QueueStatus = 'S'\r\n",
                "GROUP BY q.QueueStatus;\r\n",
                "\r\n",
                "SELECT TOP 10 QueueID\r\n",
                "FROM dbo.WidgetQueue q WITH(index(ix_QueueStatus_page))\r\n",
                "WHERE q.QueueStatus = 'S';\r\n",
                "\r\n",
                "SET STATISTICS IO,TIME OFF;"
            ],
            "metadata": {
                "azdata_cell_guid": "48203ed1-e1ea-4264-8a63-88cb314a5673",
                "tags": [
                    "hide_input"
                ]
            },
            "outputs": [],
            "execution_count": null
        },
        {
            "cell_type": "markdown",
            "source": [
                "<details>\r\n",
                "  <summary>Click to see execution plans</summary>\r\n",
                "  \r\n",
                "![WidgetQueue-PageCompressedCount](Demo-Plans\\13-WidgetQueue-PageCompressedCount.jpg)\r\n",
                "![WidgetQueue-PageCompressedTop](Demo-Plans\\14-WidgetQueue-PageCompressedTop.jpg)\r\n",
                "\r\n",
                "</details>"
            ],
            "metadata": {
                "azdata_cell_guid": "d091ec8b-dd31-4719-90e6-4a9d2bbcc980"
            }
        },
        {
            "cell_type": "markdown",
            "source": [
                "### What about those GUID columns?\r\n",
                "* ExternalID is a random GUID\r\n",
                "* ExternalID2 is a sequential GUID\r\n",
                "* Create some indexes at different compression levels... How well does \"random\" data compress?"
            ],
            "metadata": {
                "azdata_cell_guid": "6169e79c-7b5a-45fa-b752-2a5a46fbc50c"
            }
        },
        {
            "cell_type": "code",
            "source": [
                "USE IndexProFeatures\r\n",
                "GO\r\n",
                "DROP INDEX IF EXISTS ix_ExternalID ON dbo.WidgetQueue;\r\n",
                "DROP INDEX IF EXISTS ix_ExternalID_row ON dbo.WidgetQueue;\r\n",
                "DROP INDEX IF EXISTS ix_ExternalID_page ON dbo.WidgetQueue;\r\n",
                "DROP INDEX IF EXISTS ix_ExternalID2 ON dbo.WidgetQueue;\r\n",
                "DROP INDEX IF EXISTS ix_ExternalID2_row ON dbo.WidgetQueue;\r\n",
                "DROP INDEX IF EXISTS ix_ExternalID2_page ON dbo.WidgetQueue;\r\n",
                "CREATE INDEX ix_ExternalID ON dbo.WidgetQueue (ExternalID);\r\n",
                "CREATE INDEX ix_ExternalID_row ON dbo.WidgetQueue (ExternalID) \n",
                "    WITH (DATA_COMPRESSION = ROW);\r\n",
                "CREATE INDEX ix_ExternalID_page ON dbo.WidgetQueue (ExternalID) \n",
                "    WITH (DATA_COMPRESSION = PAGE);\r\n",
                "CREATE INDEX ix_ExternalID2 ON dbo.WidgetQueue (ExternalID2);\r\n",
                "CREATE INDEX ix_ExternalID2_row ON dbo.WidgetQueue (ExternalID2) \n",
                "    WITH (DATA_COMPRESSION = ROW);\r\n",
                "CREATE INDEX ix_ExternalID2_page ON dbo.WidgetQueue (ExternalID2) \n",
                "    WITH (DATA_COMPRESSION = PAGE);\r\n",
                "\r\n",
                "\r\n",
                "SELECT  i.name, \r\n",
                "        ips.page_count, \r\n",
                "        ips.record_count, \r\n",
                "        ips.compressed_page_count\r\n",
                "FROM sys.indexes i\r\n",
                "CROSS APPLY sys.dm_db_index_physical_stats(db_id(), i.object_id, i.index_id, DEFAULT, 'DETAILED') ips\r\n",
                "WHERE i.object_id = object_id('dbo.WidgetQueue')\r\n",
                "AND i.name LIKE 'ix_ExternalID%'\r\n",
                "AND index_level = 0;\r\n",
                ""
            ],
            "metadata": {
                "azdata_cell_guid": "76febcc7-3a75-4889-a29b-7b5fd3b86bdf",
                "tags": [
                    "hide_input"
                ]
            },
            "outputs": [],
            "execution_count": null
        },
        {
            "cell_type": "markdown",
            "source": [
                "### Maintenance\r\n",
                "* Compression doesn't compress random data very well, so not much space savings\r\n",
                "* How expensive are maintenance costs?"
            ],
            "metadata": {
                "azdata_cell_guid": "7a74a787-f246-4a1f-850d-dbbc1a7ef382"
            }
        },
        {
            "cell_type": "code",
            "source": [
                "USE IndexProFeatures\r\n",
                "GO\r\n",
                "SET STATISTICS TIME ON;\r\n",
                "\r\n",
                "PRINT '------->  QueueStatus';\r\n",
                "ALTER INDEX ix_QueueStatus ON dbo.WidgetQueue REBUILD;\r\n",
                "ALTER INDEX ix_QueueStatus_row ON dbo.WidgetQueue REBUILD;\r\n",
                "ALTER INDEX ix_QueueStatus_page ON dbo.WidgetQueue REBUILD;\r\n",
                "\r\n",
                "PRINT '------->  ExternalID';\r\n",
                "ALTER INDEX ix_ExternalID ON dbo.WidgetQueue REBUILD;\r\n",
                "ALTER INDEX ix_ExternalID_row ON dbo.WidgetQueue REBUILD;\r\n",
                "ALTER INDEX ix_ExternalID_page ON dbo.WidgetQueue REBUILD;\r\n",
                "\r\n",
                "PRINT '------->  ExternalID2';\r\n",
                "ALTER INDEX ix_ExternalID2 ON dbo.WidgetQueue REBUILD;\r\n",
                "ALTER INDEX ix_ExternalID2_row ON dbo.WidgetQueue REBUILD;\r\n",
                "ALTER INDEX ix_ExternalID2_page ON dbo.WidgetQueue REBUILD;\r\n",
                "\r\n",
                "SET STATISTICS TIME OFF;"
            ],
            "metadata": {
                "azdata_cell_guid": "616a5c79-e368-4431-b3b4-7bb24f71b7d1",
                "tags": [
                    "hide_input"
                ]
            },
            "outputs": [],
            "execution_count": null
        },
        {
            "cell_type": "markdown",
            "source": [
                "### Cleanup"
            ],
            "metadata": {
                "azdata_cell_guid": "67f7e5ed-eb45-4eb5-b79b-83858950562c"
            }
        },
        {
            "cell_type": "code",
            "source": [
                "USE IndexProFeatures\r\n",
                "GO\r\n",
                "SET STATISTICS IO,TIME OFF;\r\n",
                "DROP INDEX IF EXISTS ix_QueueStatus ON dbo.WidgetQueue;\r\n",
                "DROP INDEX IF EXISTS ix_QueueStatus_row ON dbo.WidgetQueue;\r\n",
                "DROP INDEX IF EXISTS ix_QueueStatus_page ON dbo.WidgetQueue;\r\n",
                "DROP INDEX IF EXISTS ix_ExternalID ON dbo.WidgetQueue;\r\n",
                "DROP INDEX IF EXISTS ix_ExternalID_row ON dbo.WidgetQueue;\r\n",
                "DROP INDEX IF EXISTS ix_ExternalID_page ON dbo.WidgetQueue;\r\n",
                "DROP INDEX IF EXISTS ix_ExternalID2 ON dbo.WidgetQueue;\r\n",
                "DROP INDEX IF EXISTS ix_ExternalID2_row ON dbo.WidgetQueue;\r\n",
                "DROP INDEX IF EXISTS ix_ExternalID2_page ON dbo.WidgetQueue;"
            ],
            "metadata": {
                "azdata_cell_guid": "5a844d77-a857-4bf7-bd7d-f87dbb4ccdfd",
                "tags": [
                    "hide_input"
                ]
            },
            "outputs": [],
            "execution_count": null
        },
        {
            "cell_type": "markdown",
            "source": [
                "## Included Columns"
            ],
            "metadata": {
                "azdata_cell_guid": "5026fb20-20a2-4900-a1c0-e47d7de76128"
            }
        },
        {
            "cell_type": "markdown",
            "source": [
                "### With a non-covering non-clustered index\r\n",
                "\r\n",
                "* 🚨Open these queries in a new query window & look at the plans.⚡"
            ],
            "metadata": {
                "azdata_cell_guid": "09352b79-831f-4dbd-83c9-893e10784ef9"
            }
        },
        {
            "cell_type": "code",
            "source": [
                "USE IndexProFeatures\r\n",
                "GO\r\n",
                "DROP INDEX IF EXISTS ix_QueueStatus ON dbo.WidgetQueue;\r\n",
                "CREATE INDEX ix_QueueStatus ON dbo.WidgetQueue (QueueStatus);\r\n",
                "\r\n",
                "--Covered by ix_QueueStatus\r\n",
                "SELECT QueueID, QueueStatus\r\n",
                "FROM dbo.WidgetQueue q\r\n",
                "WHERE q.QueueStatus = 'S';\r\n",
                "\r\n",
                "--Not covered by ix_QueueStatus\r\n",
                "SELECT QueueID, QueueStatus, ExternalID\r\n",
                "FROM dbo.WidgetQueue q\r\n",
                "WHERE q.QueueStatus = 'S';"
            ],
            "metadata": {
                "azdata_cell_guid": "270ec139-71fe-456b-a6cf-79b93ca9fd18",
                "tags": [
                    "hide_input"
                ]
            },
            "outputs": [],
            "execution_count": null
        },
        {
            "cell_type": "markdown",
            "source": [
                "<details>\r\n",
                "  <summary>Click to see execution plans</summary>\r\n",
                "  \r\n",
                "![WidgetQueue-Covering](Demo-Plans\\15-WidgetQueue-Covering.jpg)\r\n",
                "![WidgetQueue-NonCovering](Demo-Plans\\16-WidgetQueue-NonCovering.jpg)\r\n",
                "\r\n",
                "</details>"
            ],
            "metadata": {
                "azdata_cell_guid": "962cd43c-1eae-4400-afe2-3679823fda6f"
            }
        },
        {
            "cell_type": "markdown",
            "source": [
                "### Add included columns to make it covering\r\n",
                "\r\n",
                "* 🚨Open these queries in a new query window & look at the plans.⚡"
            ],
            "metadata": {
                "azdata_cell_guid": "52a66d7b-1323-4416-996d-8d83c18ea12f"
            }
        },
        {
            "cell_type": "code",
            "source": [
                "USE IndexProFeatures\r\n",
                "GO\r\n",
                "DROP INDEX IF EXISTS ix_QueueStatus_includes ON dbo.WidgetQueue;\r\n",
                "CREATE INDEX ix_QueueStatusIncludes \r\n",
                "    ON dbo.WidgetQueue (QueueStatus)\r\n",
                "    INCLUDE (ExternalID);\r\n",
                "\r\n",
                "--Covered by ix_QueueStatus\r\n",
                "SELECT QueueID, QueueStatus\r\n",
                "FROM IndexProFeatures.dbo.WidgetQueue q\r\n",
                "WHERE q.QueueStatus = 'S';\r\n",
                "\r\n",
                "--Not covered by ix_QueueStatus\r\n",
                "SELECT QueueID, QueueStatus, ExternalID\r\n",
                "FROM IndexProFeatures.dbo.WidgetQueue q\r\n",
                "WHERE q.QueueStatus = 'S';"
            ],
            "metadata": {
                "azdata_cell_guid": "3356c2af-3872-4755-88c1-1b420207f9e7",
                "tags": [
                    "hide_input"
                ]
            },
            "outputs": [],
            "execution_count": null
        },
        {
            "cell_type": "markdown",
            "source": [
                "<details>\r\n",
                "  <summary>Click to see execution plans</summary>\r\n",
                "  \r\n",
                "![WidgetQueue-StillCovering](Demo-Plans\\17-WidgetQueue-StillCovering.jpg)\r\n",
                "![WidgetQueue-IncludesCovering](Demo-Plans\\18-WidgetQueue-IncludesCovering.jpg)\r\n",
                "\r\n",
                "</details>"
            ],
            "metadata": {
                "azdata_cell_guid": "fe467afa-ce0d-4ae2-ada4-a0bc0a80a361"
            }
        },
        {
            "cell_type": "markdown",
            "source": [
                "### Cleanup"
            ],
            "metadata": {
                "azdata_cell_guid": "204b3250-224a-4bee-9c01-49a5264002d9"
            }
        },
        {
            "cell_type": "code",
            "source": [
                "USE IndexProFeatures\r\n",
                "GO\r\n",
                "SET STATISTICS IO,TIME OFF;\r\n",
                "DROP INDEX IF EXISTS ix_QueueStatus ON dbo.WidgetQueue;\r\n",
                "DROP INDEX IF EXISTS ix_QueueStatus_includes ON dbo.WidgetQueue;"
            ],
            "metadata": {
                "azdata_cell_guid": "2fa88d82-f2b4-4433-b3f9-56f8f9412b87",
                "tags": [
                    "hide_input"
                ]
            },
            "outputs": [],
            "execution_count": null
        },
        {
            "cell_type": "markdown",
            "source": [
                "## Columnstore Indexes"
            ],
            "metadata": {
                "azdata_cell_guid": "e2124e61-e8f5-43e5-8d1d-68f92d983b98"
            }
        },
        {
            "cell_type": "markdown",
            "source": [
                "### Let's query with rowstore first\r\n",
                "\r\n",
                "* This isn't fast.... Does anyone want to tell a story while we wait?"
            ],
            "metadata": {
                "azdata_cell_guid": "ae84271c-8671-4381-ada3-5986e9a31939"
            }
        },
        {
            "cell_type": "code",
            "source": [
                "USE IndexProFeatures\r\n",
                "GO\r\n",
                "SET STATISTICS IO,TIME ON;\r\n",
                "SELECT StoreID, \r\n",
                "       COUNT(*)\r\n",
                "FROM dbo.ReallyBigTable_rowstore\r\n",
                "GROUP BY StoreID;"
            ],
            "metadata": {
                "azdata_cell_guid": "51701533-c2fa-4d3d-b1d2-012a30d5aace",
                "tags": [
                    "hide_input"
                ]
            },
            "outputs": [],
            "execution_count": null
        },
        {
            "cell_type": "markdown",
            "source": [
                "<details>\r\n",
                "  <summary>Click to see execution plans</summary>\r\n",
                "  \r\n",
                "![WidgetQueue-ReallyBigTable-Rowstore](Demo-Plans\\19-ReallyBigTable-Rowstore.jpg)\r\n",
                "\r\n",
                "</details>"
            ],
            "metadata": {
                "azdata_cell_guid": "e1894e08-cc84-4c82-a5e8-71588dc58b4b"
            }
        },
        {
            "cell_type": "markdown",
            "source": [
                "### But what if we use the columnstore copy of the table?\r\n",
                ""
            ],
            "metadata": {
                "azdata_cell_guid": "fc8b24db-9bd8-4b9d-b953-f7099b949a74"
            }
        },
        {
            "cell_type": "code",
            "source": [
                "USE IndexProFeatures\r\n",
                "GO\r\n",
                "SET STATISTICS IO,TIME ON;\r\n",
                "\r\n",
                "--We ran this earlier:\r\n",
                "--   CREATE CLUSTERED COLUMNSTORE INDEX cci_ReallyBigTable ON dbo.ReallyBigTable_columnstore;\r\n",
                "\r\n",
                "SELECT StoreID, \r\n",
                "       COUNT(*)\r\n",
                "FROM dbo.ReallyBigTable_columnstore\r\n",
                "GROUP BY StoreID;\r\n",
                "\r\n",
                "SET STATISTICS IO,TIME OFF;"
            ],
            "metadata": {
                "azdata_cell_guid": "d165d4dd-6e20-4c53-b83b-f12ff39999b6",
                "tags": [
                    "hide_input"
                ]
            },
            "outputs": [],
            "execution_count": null
        },
        {
            "cell_type": "markdown",
            "source": [
                "<details>\r\n",
                "  <summary>Click to see execution plans</summary>\r\n",
                "  \r\n",
                "![WidgetQueue-ReallyBigTable-Rowstore](Demo-Plans\\20-ReallyBigTable-Columnstore.jpg)\r\n",
                "\r\n",
                "</details>"
            ],
            "metadata": {
                "azdata_cell_guid": "029309f9-c177-4abe-b0e9-b9e89cd661fd"
            }
        },
        {
            "cell_type": "markdown",
            "source": [
                "## Partitioned Tables Indexes\r\n",
                "\r\n",
                "This is more than just creating an index.\r\n",
                "* Partition Function\r\n",
                "* Partition Scheme that uses the function\r\n",
                "* Partitioned Table/Index that uses the scheme"
            ],
            "metadata": {
                "azdata_cell_guid": "4594e564-75ea-4fcc-acc2-1f21d207ed19"
            }
        },
        {
            "cell_type": "code",
            "source": [
                "USE IndexProFeatures\r\n",
                "GO\r\n",
                "\r\n",
                "DROP TABLE IF EXISTS dbo.PartitionedTable;\r\n",
                "IF EXISTS (SELECT * FROM sys.partition_schemes WHERE name = N'ps_ByYear')\r\n",
                "\tDROP PARTITION SCHEME ps_ByYear;\r\n",
                "IF EXISTS (SELECT * FROM sys.partition_functions WHERE name = N'pf_ByYear')\r\n",
                "\tDROP PARTITION FUNCTION pf_ByYear;\r\n",
                "\r\n",
                "CREATE PARTITION FUNCTION pf_ByYear (DATE)\r\n",
                "    AS RANGE RIGHT \r\n",
                "    FOR VALUES \r\n",
                "    ('2015-01-01', '2016-01-01', '2017-01-01', '2018-01-01',\r\n",
                "     '2019-01-01', '2020-01-01', '2021-01-01', '2022-01-01');\r\n",
                "\r\n",
                "CREATE PARTITION SCHEME ps_ByYear\r\n",
                "    AS PARTITION pf_ByYear \r\n",
                "    ALL TO ([Primary]);\r\n",
                "\r\n",
                "CREATE TABLE dbo.PartitionedTable(\r\n",
                "    TransactionID int identity(1,1),\r\n",
                "    CustomerID int,\r\n",
                "    TransactionDate DATE\r\n",
                ") ON ps_ByYear(TransactionDate);\r\n",
                "\r\n",
                "\r\n",
                "INSERT INTO dbo.PartitionedTable (CustomerID, TransactionDate)\r\n",
                "VALUES  (1,'20161005'),\r\n",
                "        (1,'20171005'),\r\n",
                "        (1,'20181005'),\r\n",
                "        (1,'20191005'),\r\n",
                "        (1,'20201005'),\r\n",
                "        (1,'20211005'),\r\n",
                "        (2,'20161005'),\r\n",
                "        (2,'20171005'),\r\n",
                "        (2,'20181005'),\r\n",
                "        (2,'20191005'),\r\n",
                "        (2,'20201005'),\r\n",
                "        (2,'20211005');\r\n",
                "\r\n",
                "--WHAT DOES THIS GIVE YOU? partition swapping & truncating;\r\n",
                "        -- Don't expect Reads/Inserts/Updates to be faster"
            ],
            "metadata": {
                "azdata_cell_guid": "bb7724ae-d8fd-4902-8fd9-7c52ce5bd056",
                "tags": [
                    "hide_input"
                ]
            },
            "outputs": [],
            "execution_count": null
        }
    ]
}