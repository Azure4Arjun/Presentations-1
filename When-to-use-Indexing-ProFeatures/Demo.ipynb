{
    "metadata": {
        "kernelspec": {
            "name": "SQL",
            "display_name": "SQL",
            "language": "sql"
        },
        "language_info": {
            "name": "sql",
            "version": ""
        }
    },
    "nbformat_minor": 2,
    "nbformat": 4,
    "cells": [
        {
            "cell_type": "markdown",
            "source": [
                "# Index Pro Features\r\n",
                "\r\n",
                "* Demo Setup\r\n",
                "* Filtered Indexes\r\n",
                "* Compressed Indexes\r\n",
                "* Included Columns\r\n",
                "* Partitioned Indexes\r\n",
                "* Columnstore Indexes"
            ],
            "metadata": {
                "azdata_cell_guid": "220a906e-1e29-4589-9a01-4eeffd0ed309"
            }
        },
        {
            "cell_type": "markdown",
            "source": [
                "## Demo Setup\n",
                "\n",
                "<div style=\"border:1px solid #888;padding:6px;background:#333333\"> <strong>Note:</strong> This takes 30 minutes on my quad-core i7 laptop. Creating dbo.ReallyBigTable is not fast--so I create rowstore & columnstore copies up front to make it comparison easier later. </div>\n",
                "\n",
                "* Create a DB to play in\n",
                "* Create a few tables\n",
                "* Fill them with some fun data"
            ],
            "metadata": {
                "azdata_cell_guid": "4c9dc476-0657-4da7-adcc-1bda0e2e6b62"
            }
        },
        {
            "cell_type": "code",
            "source": [
                "USE master\n",
                "-- Create a DB to play in\n",
                "DROP DATABASE IF EXISTS IndexProFeatures;\n",
                "GO\n",
                "CREATE DATABASE IndexProFeatures;\n",
                "ALTER DATABASE IndexProFeatures \n",
                "    SET RECOVERY SIMPLE;\n",
                "\n",
                "GO\n",
                "USE IndexProFeatures\n",
                "GO\n",
                "\n",
                "--Create some tables\n",
                "\n",
                "--Create some tables\n",
                "CREATE TABLE dbo.WidgetQueue (\n",
                "    QueueID bigint identity(1,1),\n",
                "    QueueDate datetime2(0),\n",
                "    QueueStatus char(1),\n",
                "    SomeOtherStuff varchar(500),\n",
                "    ExternalID uniqueidentifier,\n",
                "    ExternalID2 uniqueidentifier CONSTRAINT DF_WidgetQueue_ExternalID2 DEFAULT NEWSEQUENTIALID(),\n",
                "    NullCol01 int,\n",
                "    NullCol02 int,\n",
                "    NullCol03 int,\n",
                "    NullCol04 int,\n",
                "    NullCol05 int,\n",
                "    NullCol06 int,\n",
                "    NullCol07 nchar(4),\n",
                "    NullCol08 nchar(4),\n",
                "    NullCol09 uniqueidentifier,\n",
                "    NullCol10 uniqueidentifier,\n",
                "    CONSTRAINT PK_WidgetQueue PRIMARY KEY CLUSTERED (QueueID)\n",
                ");\n",
                "\n",
                "CREATE TABLE dbo.ReallyBigTable_rowstore (\n",
                "    ReallyBigTableID bigint identity(1,1),\n",
                "    StoreID tinyint,\n",
                "    CustomerID int,\n",
                "    ProductID int,\n",
                "    TransactionTypeID int,\n",
                "    CONSTRAINT PK_ReallyBigTable_rs PRIMARY KEY CLUSTERED (ReallyBigTableID)\n",
                ");\n",
                "\n",
                "CREATE TABLE dbo.ReallyBigTable_columnstore (\n",
                "    ReallyBigTableID bigint,\n",
                "    StoreID tinyint,\n",
                "    CustomerID int,\n",
                "    ProductID int,\n",
                "    TransactionTypeID int);\n",
                "\n",
                "--Use some data\n",
                "INSERT INTO dbo.WidgetQueue (QueueDate, QueueStatus, SomeOtherStuff, ExternalID)\n",
                "SELECT  QueueDate      = DATEADD(DAY,-(c1.object_id%10), CONVERT(date,GETDATE())),\n",
                "        QueueStatus    = CASE c2. column_id%3\n",
                "                           WHEN 0 THEN 'Q' \n",
                "                           WHEN 1 THEN 'S' \n",
                "                           WHEN 2 THEN 'L' \n",
                "                         END,\n",
                "        SomeOtherStuff = c1.name + c2.name,\n",
                "        ExternalID     = NEWID()\n",
                "FROM sys.columns AS c1\n",
                "CROSS JOIN sys.columns AS c2;\n",
                "GO\n",
                "INSERT INTO dbo.ReallyBigTable_rowstore (StoreID, CustomerID, ProductID, TransactionTypeID)\n",
                "SELECT  StoreID             = c1.column_id,\n",
                "        CustomerID          = c1.object_id,\n",
                "        ProductID           = c2.object_id%10000,\n",
                "        TransactionTypeID   = c2.system_type_id\n",
                "FROM sys.columns AS c1\n",
                "CROSS JOIN sys.columns AS c2;\n",
                "GO 100\n",
                "\n",
                "INSERT INTO dbo.ReallyBigTable_columnstore (ReallyBigTableID, StoreID, CustomerID, ProductID, TransactionTypeID)\n",
                "SELECT ReallyBigTableID, StoreID, CustomerID, ProductID, TransactionTypeID\n",
                "FROM ReallyBigTable_rowstore;\n",
                "\n",
                "CREATE CLUSTERED COLUMNSTORE INDEX cci_ReallyBigTable ON dbo.ReallyBigTable_columnstore;\n",
                ""
            ],
            "metadata": {
                "azdata_cell_guid": "91c934a0-7c12-47e4-bd8d-a23f7b7a32f3"
            },
            "outputs": [],
            "execution_count": 1
        },
        {
            "cell_type": "markdown",
            "source": [
                "## Filtered Indexes\r\n",
                ""
            ],
            "metadata": {
                "azdata_cell_guid": "5028d010-3cff-4a35-bca1-e6b9540422bf"
            }
        },
        {
            "cell_type": "markdown",
            "source": [
                "### Query without any indexes\r\n",
                "\r\n",
                "* Look at number of reads, CPU, and execution time."
            ],
            "metadata": {
                "azdata_cell_guid": "835c0410-97d1-4220-b812-000d496b0434"
            }
        },
        {
            "cell_type": "code",
            "source": [
                "USE IndexProFeatures\r\n",
                "GO\r\n",
                "SET STATISTICS IO,TIME ON;\r\n",
                "\r\n",
                "SELECT COUNT(*)\r\n",
                "FROM dbo.WidgetQueue q\r\n",
                "WHERE q.QueueStatus = 'S';\r\n",
                "\r\n",
                "SET STATISTICS IO,TIME OFF;"
            ],
            "metadata": {
                "azdata_cell_guid": "df085084-a132-498e-9e17-2fa1ddce786e"
            },
            "outputs": [],
            "execution_count": 9
        },
        {
            "cell_type": "markdown",
            "source": [
                "### Query with a \"regular\" non-clustered index\r\n",
                "\r\n",
                "* Look at number of reads, CPU, and execution time."
            ],
            "metadata": {
                "azdata_cell_guid": "2ee0009e-ebb3-4383-8124-ab9ec0463215"
            }
        },
        {
            "cell_type": "code",
            "source": [
                "USE IndexProFeatures\r\n",
                "GO\r\n",
                "DROP INDEX IF EXISTS ix_QueueStatus ON dbo.WidgetQueue;\r\n",
                "CREATE INDEX ix_QueueStatus ON dbo.WidgetQueue (QueueStatus);\r\n",
                "\r\n",
                "SET STATISTICS IO,TIME ON;\r\n",
                "\r\n",
                "SELECT COUNT(*)\r\n",
                "FROM dbo.WidgetQueue q\r\n",
                "WHERE q.QueueStatus = 'S';\r\n",
                "\r\n",
                "SELECT TOP 1 QueueID\r\n",
                "FROM dbo.WidgetQueue q\r\n",
                "WHERE q.QueueStatus = 'S';\r\n",
                "\r\n",
                "SET STATISTICS IO,TIME OFF;"
            ],
            "metadata": {
                "azdata_cell_guid": "68bc491d-b42a-45b5-948d-69fed073577f"
            },
            "outputs": [],
            "execution_count": 10
        },
        {
            "cell_type": "markdown",
            "source": [
                "### Query with a filtered index\r\n",
                "\r\n",
                "* Look at number of reads, CPU, and execution time.\r\n",
                "* Open these queries in a new query window & look at the plans."
            ],
            "metadata": {
                "azdata_cell_guid": "5d2a015d-32b8-4f26-98d9-880cb3bd117f"
            }
        },
        {
            "cell_type": "code",
            "source": [
                "USE IndexProFeatures\r\n",
                "GO\r\n",
                "DROP INDEX IF EXISTS ix_QueueStatus_filtered ON dbo.WidgetQueue;\r\n",
                "CREATE INDEX ix_QueueStatus_filtered ON dbo.WidgetQueue (QueueStatus) WHERE QueueStatus = 'S';\r\n",
                "\r\n",
                "SET STATISTICS IO,TIME ON;\r\n",
                "\r\n",
                "SELECT COUNT(*)\r\n",
                "FROM dbo.WidgetQueue q\r\n",
                "WHERE q.QueueStatus = 'S';\r\n",
                "\r\n",
                "SELECT TOP 1 QueueID\r\n",
                "FROM dbo.WidgetQueue q\r\n",
                "WHERE q.QueueStatus = 'S';\r\n",
                "\r\n",
                "DECLARE @i char(1) = 'S';\r\n",
                "SELECT TOP 1 QueueID\r\n",
                "FROM dbo.WidgetQueue q\r\n",
                "WHERE q.QueueStatus = @i;\r\n",
                "\r\n",
                "SET STATISTICS IO,TIME OFF;"
            ],
            "metadata": {
                "azdata_cell_guid": "f991fd6b-14ee-43c0-bc03-26eea0364053"
            },
            "outputs": [],
            "execution_count": 11
        },
        {
            "cell_type": "markdown",
            "source": [
                "### Maintenance costs\r\n",
                "\r\n",
                "* Look at number of reads, CPU, and execution time."
            ],
            "metadata": {
                "azdata_cell_guid": "f4a0e488-4df7-4589-bbed-ce8c338c318e"
            }
        },
        {
            "cell_type": "code",
            "source": [
                "USE IndexProFeatures\r\n",
                "GO\r\n",
                "SET STATISTICS IO,TIME ON;\r\n",
                "\r\n",
                "ALTER INDEX ix_QueueStatus ON dbo.WidgetQueue REBUILD;\r\n",
                "ALTER INDEX ix_QueueStatus_filtered ON dbo.WidgetQueue REBUILD;\r\n",
                "\r\n",
                "SET STATISTICS IO,TIME OFF;"
            ],
            "metadata": {
                "azdata_cell_guid": "684c325b-aa16-4a29-8eda-6539b2acb300"
            },
            "outputs": [],
            "execution_count": 12
        },
        {
            "cell_type": "markdown",
            "source": [
                "### Cleanup"
            ],
            "metadata": {
                "azdata_cell_guid": "e3f12b20-0f1f-4957-ab46-eeee1d90fd7a"
            }
        },
        {
            "cell_type": "code",
            "source": [
                "USE IndexProFeatures\r\n",
                "GO\r\n",
                "SET STATISTICS IO,TIME OFF;\r\n",
                "DROP INDEX IF EXISTS ix_QueueStatus ON dbo.WidgetQueue;\r\n",
                "DROP INDEX IF EXISTS ix_QueueStatus_filtered ON dbo.WidgetQueue;"
            ],
            "metadata": {
                "azdata_cell_guid": "c0aafb65-fc87-423e-994e-9ea2b85144a3"
            },
            "outputs": [],
            "execution_count": 13
        },
        {
            "cell_type": "markdown",
            "source": [
                "## Compressed Indexes"
            ],
            "metadata": {
                "azdata_cell_guid": "2472c42b-6bd2-47ee-ae51-d53c94b8ba0d"
            }
        },
        {
            "cell_type": "markdown",
            "source": [
                "### Query with a non-clustered index\r\n",
                "\r\n",
                "* Look at number of reads, CPU, and execution time."
            ],
            "metadata": {
                "azdata_cell_guid": "c6cc59da-85e8-4f86-a64e-d3144ee722cd"
            }
        },
        {
            "cell_type": "code",
            "source": [
                "USE IndexProFeatures\r\n",
                "GO\r\n",
                "DROP INDEX IF EXISTS ix_QueueStatus ON dbo.WidgetQueue;\r\n",
                "CREATE INDEX ix_QueueStatus ON dbo.WidgetQueue (QueueStatus);\r\n",
                "\r\n",
                "SET STATISTICS IO,TIME ON;\r\n",
                "\r\n",
                "SELECT q.QueueStatus, COUNT(*)\r\n",
                "FROM dbo.WidgetQueue q\r\n",
                "WHERE q.QueueStatus = 'S'\r\n",
                "GROUP BY q.QueueStatus;\r\n",
                "\r\n",
                "SELECT TOP 10 *\r\n",
                "FROM dbo.WidgetQueue q\r\n",
                "WHERE q.QueueStatus = 'S';\r\n",
                "\r\n",
                "SET STATISTICS IO,TIME OFF;"
            ],
            "metadata": {
                "azdata_cell_guid": "ad564df5-9274-479f-8bc4-140d98b46265"
            },
            "outputs": [],
            "execution_count": 14
        },
        {
            "cell_type": "markdown",
            "source": [
                "### How about with a row-compressed index?\r\n",
                "\r\n",
                "* Look at number of reads, CPU, and execution time."
            ],
            "metadata": {
                "azdata_cell_guid": "ad5c4919-b00a-47c1-9a8c-99d6aeb90f30"
            }
        },
        {
            "cell_type": "code",
            "source": [
                "USE IndexProFeatures\r\n",
                "GO\r\n",
                "DROP INDEX IF EXISTS ix_QueueStatus_row ON dbo.WidgetQueue;\r\n",
                "CREATE INDEX ix_QueueStatus_row ON dbo.WidgetQueue (QueueStatus) WITH (DATA_COMPRESSION = ROW);\r\n",
                "GO\r\n",
                "SET STATISTICS IO,TIME ON;\r\n",
                "\r\n",
                "SELECT q.QueueStatus, COUNT(*)\r\n",
                "FROM dbo.WidgetQueue q WITH(index(ix_QueueStatus_row))\r\n",
                "WHERE q.QueueStatus = 'S'\r\n",
                "GROUP BY q.QueueStatus;\r\n",
                "\r\n",
                "SELECT TOP 10 QueueID\r\n",
                "FROM dbo.WidgetQueue q WITH(index(ix_QueueStatus_row))\r\n",
                "WHERE q.QueueStatus = 'S';\r\n",
                "\r\n",
                "SET STATISTICS IO,TIME OFF;"
            ],
            "metadata": {
                "azdata_cell_guid": "d325c46d-b35c-4ca3-b364-2e5d68726478"
            },
            "outputs": [],
            "execution_count": 21
        },
        {
            "cell_type": "markdown",
            "source": [
                "### With a page compressed index?"
            ],
            "metadata": {
                "azdata_cell_guid": "0c3309b2-91fa-4967-a60c-4786066fa8b2"
            }
        },
        {
            "cell_type": "code",
            "source": [
                "USE IndexProFeatures\r\n",
                "GO\r\n",
                "DROP INDEX IF EXISTS ix_QueueStatus_page ON dbo.WidgetQueue;\r\n",
                "CREATE INDEX ix_QueueStatus_page ON dbo.WidgetQueue (QueueStatus) WITH (DATA_COMPRESSION = PAGE);\r\n",
                "GO\r\n",
                "\r\n",
                "SET STATISTICS IO,TIME ON;\r\n",
                "\r\n",
                "SELECT q.QueueStatus, COUNT(*)\r\n",
                "FROM dbo.WidgetQueue q WITH(index(ix_QueueStatus_page))\r\n",
                "WHERE q.QueueStatus = 'S'\r\n",
                "GROUP BY q.QueueStatus;\r\n",
                "\r\n",
                "SELECT TOP 10 QueueID\r\n",
                "FROM dbo.WidgetQueue q WITH(index(ix_QueueStatus_page))\r\n",
                "WHERE q.QueueStatus = 'S';\r\n",
                "\r\n",
                "SET STATISTICS IO,TIME OFF;"
            ],
            "metadata": {
                "azdata_cell_guid": "9f4d1d79-2cc3-449d-b5cf-c015168279e6"
            },
            "outputs": [],
            "execution_count": 22
        },
        {
            "cell_type": "markdown",
            "source": [
                "### What about those GUID columns?\r\n",
                "* ExternalID is a random GUID\r\n",
                "* ExternalID2 is a sequential GUID\r\n",
                "* Create some indexes at different compression levels... How well does \"random\" data compress?"
            ],
            "metadata": {
                "azdata_cell_guid": "15b831d8-7a52-4d49-baf0-ee73a5de4e5b"
            }
        },
        {
            "cell_type": "code",
            "source": [
                "USE IndexProFeatures\r\n",
                "GO\r\n",
                "DROP INDEX IF EXISTS ix_ExternalID ON dbo.WidgetQueue;\r\n",
                "DROP INDEX IF EXISTS ix_ExternalID_row ON dbo.WidgetQueue;\r\n",
                "DROP INDEX IF EXISTS ix_ExternalID_page ON dbo.WidgetQueue;\r\n",
                "DROP INDEX IF EXISTS ix_ExternalID2 ON dbo.WidgetQueue;\r\n",
                "DROP INDEX IF EXISTS ix_ExternalID2_row ON dbo.WidgetQueue;\r\n",
                "DROP INDEX IF EXISTS ix_ExternalID2_page ON dbo.WidgetQueue;\r\n",
                "CREATE INDEX ix_ExternalID ON dbo.WidgetQueue (ExternalID);\r\n",
                "CREATE INDEX ix_ExternalID_row ON dbo.WidgetQueue (ExternalID) WITH (DATA_COMPRESSION = ROW);\r\n",
                "CREATE INDEX ix_ExternalID_page ON dbo.WidgetQueue (ExternalID) WITH (DATA_COMPRESSION = PAGE);\r\n",
                "CREATE INDEX ix_ExternalID2 ON dbo.WidgetQueue (ExternalID2);\r\n",
                "CREATE INDEX ix_ExternalID2_row ON dbo.WidgetQueue (ExternalID2) WITH (DATA_COMPRESSION = ROW);\r\n",
                "CREATE INDEX ix_ExternalID2_page ON dbo.WidgetQueue (ExternalID2) WITH (DATA_COMPRESSION = PAGE);\r\n",
                "\r\n",
                "\r\n",
                "SELECT  i.name, \r\n",
                "        ips.page_count, \r\n",
                "        ips.record_count, \r\n",
                "        ips.compressed_page_count\r\n",
                "FROM sys.indexes i\r\n",
                "CROSS APPLY sys.dm_db_index_physical_stats(db_id(), i.object_id, i.index_id, DEFAULT, 'DETAILED') ips\r\n",
                "WHERE i.object_id = object_id('dbo.WidgetQueue')\r\n",
                "AND i.name LIKE 'ix_ExternalID%'\r\n",
                "AND index_level = 0;\r\n",
                ""
            ],
            "metadata": {
                "azdata_cell_guid": "efd56190-0cbb-45f1-bef4-5febb72318af"
            },
            "outputs": [],
            "execution_count": 23
        },
        {
            "cell_type": "markdown",
            "source": [
                "### Maintenance\r\n",
                "* Compression doesn't compress random data very well, so not much space savings\r\n",
                "* How expensive are maintenance costs?"
            ],
            "metadata": {
                "azdata_cell_guid": "d0c5f28f-b356-4535-a2aa-32e54ec51cd1"
            }
        },
        {
            "cell_type": "code",
            "source": [
                "USE IndexProFeatures\r\n",
                "GO\r\n",
                "SET STATISTICS TIME ON;\r\n",
                "\r\n",
                "PRINT '------->  QueueStatus';\r\n",
                "ALTER INDEX ix_QueueStatus ON dbo.WidgetQueue REBUILD;\r\n",
                "ALTER INDEX ix_QueueStatus_row ON dbo.WidgetQueue REBUILD;\r\n",
                "ALTER INDEX ix_QueueStatus_page ON dbo.WidgetQueue REBUILD;\r\n",
                "\r\n",
                "PRINT '------->  ExternalID';\r\n",
                "ALTER INDEX ix_ExternalID ON dbo.WidgetQueue REBUILD;\r\n",
                "ALTER INDEX ix_ExternalID_row ON dbo.WidgetQueue REBUILD;\r\n",
                "ALTER INDEX ix_ExternalID_page ON dbo.WidgetQueue REBUILD;\r\n",
                "\r\n",
                "PRINT '------->  ExternalID2';\r\n",
                "ALTER INDEX ix_ExternalID2 ON dbo.WidgetQueue REBUILD;\r\n",
                "ALTER INDEX ix_ExternalID2_row ON dbo.WidgetQueue REBUILD;\r\n",
                "ALTER INDEX ix_ExternalID2_page ON dbo.WidgetQueue REBUILD;\r\n",
                "\r\n",
                "SET STATISTICS TIME OFF;"
            ],
            "metadata": {
                "azdata_cell_guid": "01d34fe9-2c77-47d5-a3b3-df699107dbd1"
            },
            "outputs": [],
            "execution_count": 24
        },
        {
            "cell_type": "markdown",
            "source": [
                "### Cleanup"
            ],
            "metadata": {
                "azdata_cell_guid": "a4bb4263-fb41-4602-ae68-1b01f706dc79"
            }
        },
        {
            "cell_type": "code",
            "source": [
                "USE IndexProFeatures\r\n",
                "GO\r\n",
                "SET STATISTICS IO,TIME OFF;\r\n",
                "DROP INDEX IF EXISTS ix_QueueStatus ON dbo.WidgetQueue;\r\n",
                "DROP INDEX IF EXISTS ix_QueueStatus_row ON dbo.WidgetQueue;\r\n",
                "DROP INDEX IF EXISTS ix_QueueStatus_page ON dbo.WidgetQueue;\r\n",
                "DROP INDEX IF EXISTS ix_ExternalID ON dbo.WidgetQueue;\r\n",
                "DROP INDEX IF EXISTS ix_ExternalID_row ON dbo.WidgetQueue;\r\n",
                "DROP INDEX IF EXISTS ix_ExternalID_page ON dbo.WidgetQueue;\r\n",
                "DROP INDEX IF EXISTS ix_ExternalID2 ON dbo.WidgetQueue;\r\n",
                "DROP INDEX IF EXISTS ix_ExternalID2_row ON dbo.WidgetQueue;\r\n",
                "DROP INDEX IF EXISTS ix_ExternalID2_page ON dbo.WidgetQueue;"
            ],
            "metadata": {
                "azdata_cell_guid": "3c95bbec-c0e0-4563-8dea-a23b436c4846"
            },
            "outputs": [],
            "execution_count": 27
        },
        {
            "cell_type": "markdown",
            "source": [
                "## Included Columns"
            ],
            "metadata": {
                "azdata_cell_guid": "cb729173-b5eb-4a5b-9c94-a641b24bf3a8"
            }
        },
        {
            "cell_type": "markdown",
            "source": [
                "### With a non-covering non-clustered index\r\n",
                "\r\n",
                "* Look at the execution plans for these two in a separate window"
            ],
            "metadata": {
                "azdata_cell_guid": "ccfe146c-915e-433e-91a0-9f9275ea410a"
            }
        },
        {
            "cell_type": "code",
            "source": [
                "USE IndexProFeatures\r\n",
                "GO\r\n",
                "DROP INDEX IF EXISTS ix_QueueStatus ON dbo.WidgetQueue;\r\n",
                "CREATE INDEX ix_QueueStatus ON dbo.WidgetQueue (QueueStatus);\r\n",
                "\r\n",
                "--Covered by ix_QueueStatus\r\n",
                "SELECT QueueID, QueueStatus\r\n",
                "FROM dbo.WidgetQueue q\r\n",
                "WHERE q.QueueStatus = 'S';\r\n",
                "\r\n",
                "--Not covered by ix_QueueStatus\r\n",
                "SELECT QueueID, QueueStatus, ExternalID\r\n",
                "FROM dbo.WidgetQueue q\r\n",
                "WHERE q.QueueStatus = 'S';"
            ],
            "metadata": {
                "azdata_cell_guid": "fa2a9a37-92c5-4a9a-a3cf-ce44f7947a8a"
            },
            "outputs": [],
            "execution_count": 25
        },
        {
            "cell_type": "markdown",
            "source": [
                "### Add included columns to make it covering\r\n",
                "\r\n",
                "* Look at the execution plans for these in anoter window"
            ],
            "metadata": {
                "azdata_cell_guid": "f0e3c691-0353-4737-98b3-eecac2bf7723"
            }
        },
        {
            "cell_type": "code",
            "source": [
                "USE IndexProFeatures\r\n",
                "GO\r\n",
                "DROP INDEX IF EXISTS ix_QueueStatus_includes ON dbo.WidgetQueue;\r\n",
                "CREATE INDEX ix_QueueStatusIncludes \r\n",
                "    ON dbo.WidgetQueue (QueueStatus)\r\n",
                "    INCLUDE (ExternalID);\r\n",
                "\r\n",
                "--Covered by ix_QueueStatus\r\n",
                "SELECT QueueID, QueueStatus\r\n",
                "FROM IndexProFeatures.dbo.WidgetQueue q\r\n",
                "WHERE q.QueueStatus = 'S';\r\n",
                "\r\n",
                "--Not covered by ix_QueueStatus\r\n",
                "SELECT QueueID, QueueStatus, ExternalID\r\n",
                "FROM IndexProFeatures.dbo.WidgetQueue q\r\n",
                "WHERE q.QueueStatus = 'S';"
            ],
            "metadata": {
                "azdata_cell_guid": "80e90853-9c69-4c3d-9e0c-1a4510037f31"
            },
            "outputs": [],
            "execution_count": 26
        },
        {
            "cell_type": "markdown",
            "source": [
                "### Cleanup"
            ],
            "metadata": {
                "azdata_cell_guid": "0cab16e8-7f67-4c3e-968a-4912507a074f"
            }
        },
        {
            "cell_type": "code",
            "source": [
                "USE IndexProFeatures\r\n",
                "GO\r\n",
                "SET STATISTICS IO,TIME OFF;\r\n",
                "DROP INDEX IF EXISTS ix_QueueStatus ON dbo.WidgetQueue;\r\n",
                "DROP INDEX IF EXISTS ix_QueueStatus_includes ON dbo.WidgetQueue;"
            ],
            "metadata": {
                "azdata_cell_guid": "b9736f05-40de-495c-b8bb-fe7b28dbf5d1"
            },
            "outputs": [],
            "execution_count": 27
        },
        {
            "cell_type": "markdown",
            "source": [
                "## Columnstore Indexes"
            ],
            "metadata": {
                "azdata_cell_guid": "5e0b5e35-baff-4788-9e25-829f65217110"
            }
        },
        {
            "cell_type": "markdown",
            "source": [
                "### Let's query with rowstore first\r\n",
                "\r\n",
                "* This isn't fast.... Does anyone want to tell a story while we wait?"
            ],
            "metadata": {
                "azdata_cell_guid": "ab09e25a-e74e-4c1e-8870-026366238e47"
            }
        },
        {
            "cell_type": "code",
            "source": [
                "USE IndexProFeatures\r\n",
                "GO\r\n",
                "SET STATISTICS IO,TIME ON;\r\n",
                "SELECT StoreID, \r\n",
                "       COUNT(*)\r\n",
                "FROM dbo.ReallyBigTable_rowstore\r\n",
                "GROUP BY StoreID;"
            ],
            "metadata": {
                "azdata_cell_guid": "b92bbc90-6580-4ddc-a2c6-98d00371cb81"
            },
            "outputs": [],
            "execution_count": 28
        },
        {
            "cell_type": "markdown",
            "source": [
                "### But what if we use the columnstore copy of the table?\r\n",
                ""
            ],
            "metadata": {
                "azdata_cell_guid": "4b160fc6-48b9-48c0-9ea0-06d77f7e0b12"
            }
        },
        {
            "cell_type": "code",
            "source": [
                "USE IndexProFeatures\r\n",
                "GO\r\n",
                "SET STATISTICS IO,TIME ON;\r\n",
                "\r\n",
                "--We ran this earlier:\r\n",
                "--   CREATE CLUSTERED COLUMNSTORE INDEX cci_ReallyBigTable ON dbo.ReallyBigTable_columnstore;\r\n",
                "\r\n",
                "SELECT StoreID, \r\n",
                "       COUNT(*)\r\n",
                "FROM dbo.ReallyBigTable_columnstore\r\n",
                "GROUP BY StoreID;\r\n",
                "\r\n",
                "SET STATISTICS IO,TIME OFF;"
            ],
            "metadata": {
                "azdata_cell_guid": "4b13c449-937d-4335-aae6-b7d3363f208a"
            },
            "outputs": [],
            "execution_count": 29
        },
        {
            "cell_type": "markdown",
            "source": [
                "## Partitioned Tables Indexes\r\n",
                "\r\n",
                "This is more than just creating an index.\r\n",
                "* Partition Function\r\n",
                "* Partition Scheme that uses the function\r\n",
                "* Partitioned Table/Index that uses the scheme"
            ],
            "metadata": {
                "azdata_cell_guid": "601de81b-3d4d-4eef-ac9d-69adc0341eff"
            }
        },
        {
            "cell_type": "code",
            "source": [
                "USE IndexProFeatures\r\n",
                "GO\r\n",
                "\r\n",
                "DROP TABLE IF EXISTS dbo.PartitionedTable;\r\n",
                "IF EXISTS (SELECT * FROM sys.partition_schemes WHERE name = N'ps_ByYear')\r\n",
                "\tDROP PARTITION SCHEME ps_ByYear;\r\n",
                "IF EXISTS (SELECT * FROM sys.partition_functions WHERE name = N'pf_ByYear')\r\n",
                "\tDROP PARTITION FUNCTION pf_ByYear;\r\n",
                "\r\n",
                "CREATE PARTITION FUNCTION pf_ByYear (DATE)\r\n",
                "    AS RANGE RIGHT \r\n",
                "    FOR VALUES \r\n",
                "    ('2015-01-01', '2016-01-01', '2017-01-01', '2018-01-01',\r\n",
                "     '2019-01-01', '2020-01-01', '2021-01-01', '2022-01-01');\r\n",
                "\r\n",
                "CREATE PARTITION SCHEME ps_ByYear\r\n",
                "    AS PARTITION pf_ByYear \r\n",
                "    ALL TO ([Primary]);\r\n",
                "\r\n",
                "CREATE TABLE dbo.PartitionedTable(\r\n",
                "    TransactionID int identity(1,1),\r\n",
                "    CustomerID int,\r\n",
                "    TransactionDate DATE\r\n",
                ") ON ps_ByYear(TransactionDate);\r\n",
                "\r\n",
                "\r\n",
                "INSERT INTO dbo.PartitionedTable (CustomerID, TransactionDate)\r\n",
                "VALUES  (1,'20161005'),\r\n",
                "        (1,'20171005'),\r\n",
                "        (1,'20181005'),\r\n",
                "        (1,'20191005'),\r\n",
                "        (1,'20201005'),\r\n",
                "        (1,'20211005'),\r\n",
                "        (2,'20161005'),\r\n",
                "        (2,'20171005'),\r\n",
                "        (2,'20181005'),\r\n",
                "        (2,'20191005'),\r\n",
                "        (2,'20201005'),\r\n",
                "        (2,'20211005');\r\n",
                "        "
            ],
            "metadata": {
                "azdata_cell_guid": "370efccd-828d-4633-9a47-ef8466886a07",
                "tags": []
            },
            "outputs": [],
            "execution_count": 0
        }
    ]
}